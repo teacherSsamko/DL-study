{
  "nbformat": 4,
  "nbformat_minor": 0,
  "metadata": {
    "colab": {
      "provenance": [],
      "gpuType": "A100",
      "machine_shape": "hm",
      "include_colab_link": true
    },
    "kernelspec": {
      "name": "python3",
      "display_name": "Python 3"
    },
    "language_info": {
      "name": "python"
    },
    "accelerator": "GPU"
  },
  "cells": [
    {
      "cell_type": "markdown",
      "metadata": {
        "id": "view-in-github",
        "colab_type": "text"
      },
      "source": [
        "<a href=\"https://colab.research.google.com/github/teacherSsamko/DL-study/blob/main/w1_2.ipynb\" target=\"_parent\"><img src=\"https://colab.research.google.com/assets/colab-badge.svg\" alt=\"Open In Colab\"/></a>"
      ]
    },
    {
      "cell_type": "markdown",
      "source": [
        "# [1주차] 심화과제: MNIST 예측 모델에 deep learning techniques 적용하기"
      ],
      "metadata": {
        "id": "OPJenlrhihrh"
      }
    },
    {
      "cell_type": "code",
      "execution_count": 1,
      "metadata": {
        "id": "6lXVfXoDtoQh"
      },
      "outputs": [],
      "source": [
        "import torch\n",
        "import torchvision\n",
        "import torchvision.transforms as transforms\n",
        "import numpy as np\n",
        "import matplotlib.pyplot as plt"
      ]
    },
    {
      "cell_type": "markdown",
      "source": [
        "Dataset을 MNIST에서 CIFAR10으로 변경"
      ],
      "metadata": {
        "id": "pF-1zQvmiult"
      }
    },
    {
      "cell_type": "code",
      "source": [
        "transform = transforms.ToTensor()\n",
        "\n",
        "trainset = torchvision.datasets.CIFAR10(\n",
        "    root='./data',\n",
        "    train=True,\n",
        "    download=True,\n",
        "    transform=transform\n",
        ")"
      ],
      "metadata": {
        "id": "KAYlqPaRt6ti",
        "colab": {
          "base_uri": "https://localhost:8080/"
        },
        "outputId": "e8215ec8-1e03-4086-c94a-46a9d47e6909"
      },
      "execution_count": 2,
      "outputs": [
        {
          "output_type": "stream",
          "name": "stdout",
          "text": [
            "Downloading https://www.cs.toronto.edu/~kriz/cifar-10-python.tar.gz to ./data/cifar-10-python.tar.gz\n"
          ]
        },
        {
          "output_type": "stream",
          "name": "stderr",
          "text": [
            "100%|██████████| 170M/170M [00:02<00:00, 70.9MB/s]\n"
          ]
        },
        {
          "output_type": "stream",
          "name": "stdout",
          "text": [
            "Extracting ./data/cifar-10-python.tar.gz to ./data\n"
          ]
        }
      ]
    },
    {
      "cell_type": "markdown",
      "source": [
        "MNIST는 손글씨 사진과 어떤 숫자를 의미하는지에 대한 label의 pair들로 구성되어있습니다.\n",
        "이 때, 우리는 PyTorch model을 사용할 것이기 때문에 손글씨 사진들을 모두 tensor로 변환해야합니다.\n",
        "이러한 부가적인 변환들은 `torchvision.transforms`에서 제공하고 있으며, `torchvision.datasets.MNIST`에서 `transform` 인자로 받을 수 있습니다.\n",
        "우리는 단순히 사진을 tensor로 바꾸고 싶기 때문에 `transforms.ToTensor()` transformation을 넘겨줍니다.\n",
        "\n",
        "다음은 전체 data의 개수와 첫 번째 data를 출력한 결과입니다."
      ],
      "metadata": {
        "id": "p-GqH7_ZjVMs"
      }
    },
    {
      "cell_type": "markdown",
      "source": [
        "## [MY CODE] 3채널 이미지 확인\n",
        "\n",
        "CIFAR10 이미지는 (channel, height, width) 형식인데 반해, plt.imshow는 (height, width, channel)을 인자로 받기 때문에, permute를 이용해서 순서를 재배열"
      ],
      "metadata": {
        "id": "ayk1pPg0f9oX"
      }
    },
    {
      "cell_type": "code",
      "source": [
        "print(len(trainset))\n",
        "print(trainset[0][0].shape, trainset[0][1])\n",
        "plt.imshow(trainset[0][0].permute(1, 2, 0))"
      ],
      "metadata": {
        "colab": {
          "base_uri": "https://localhost:8080/",
          "height": 484
        },
        "id": "Zsp3sHmojyhT",
        "outputId": "e44efe21-3908-4cfd-dff8-785d6f78ae97"
      },
      "execution_count": 3,
      "outputs": [
        {
          "output_type": "stream",
          "name": "stdout",
          "text": [
            "50000\n",
            "torch.Size([3, 32, 32]) 6\n"
          ]
        },
        {
          "output_type": "execute_result",
          "data": {
            "text/plain": [
              "<matplotlib.image.AxesImage at 0x799444ce7ee0>"
            ]
          },
          "metadata": {},
          "execution_count": 3
        },
        {
          "output_type": "display_data",
          "data": {
            "text/plain": [
              "<Figure size 640x480 with 1 Axes>"
            ],
            "image/png": "[encoded data removed]"
          },
          "metadata": {}
        }
      ]
    },
    {
      "cell_type": "code",
      "source": [
        "batch_size = 256\n",
        "\n",
        "trainloader = torch.utils.data.DataLoader(\n",
        "    trainset,\n",
        "    batch_size=batch_size,\n",
        "    shuffle=True\n",
        ")"
      ],
      "metadata": {
        "id": "UxKu3kA2i5WH"
      },
      "execution_count": 4,
      "outputs": []
    },
    {
      "cell_type": "code",
      "source": [
        "testset = torchvision.datasets.CIFAR10(\n",
        "    root='./data',\n",
        "    train=False,\n",
        "    download=True,\n",
        "    transform=transform\n",
        ")"
      ],
      "metadata": {
        "colab": {
          "base_uri": "https://localhost:8080/"
        },
        "id": "eD5cXnLkTUWw",
        "outputId": "8d94a27e-1036-411a-e57d-d4e9a78c16ef"
      },
      "execution_count": 5,
      "outputs": [
        {
          "output_type": "stream",
          "name": "stdout",
          "text": [
            "Files already downloaded and verified\n"
          ]
        }
      ]
    },
    {
      "cell_type": "code",
      "source": [
        "testloader = torch.utils.data.DataLoader(\n",
        "    testset,\n",
        "    batch_size=batch_size,\n",
        ")"
      ],
      "metadata": {
        "id": "1oUXWi7xTVEE"
      },
      "execution_count": 6,
      "outputs": []
    },
    {
      "cell_type": "code",
      "source": [
        "dataiter = iter(trainloader)\n",
        "images, labels = next(dataiter)\n",
        "print(images.shape, labels.shape)"
      ],
      "metadata": {
        "colab": {
          "base_uri": "https://localhost:8080/"
        },
        "id": "_Hd7XxyAvVNz",
        "outputId": "283e4d54-9275-4a9d-c06e-77046378ec4f"
      },
      "execution_count": 7,
      "outputs": [
        {
          "output_type": "stream",
          "name": "stdout",
          "text": [
            "torch.Size([256, 3, 32, 32]) torch.Size([256])\n"
          ]
        }
      ]
    },
    {
      "cell_type": "markdown",
      "source": [
        "## [LOG] shape 확인"
      ],
      "metadata": {
        "id": "HM5Nr-0ljZng"
      }
    },
    {
      "cell_type": "code",
      "source": [
        "from torch import nn\n",
        "\n",
        "\n",
        "class Model(nn.Module):\n",
        "  def __init__(self, input_dim, n_dim):\n",
        "    super().__init__()\n",
        "\n",
        "    self.layer1 = nn.Linear(input_dim, n_dim)\n",
        "    self.layer2 = nn.Linear(n_dim, n_dim)\n",
        "    self.layer3 = nn.Linear(n_dim, 10)\n",
        "\n",
        "    self.act = nn.LeakyReLU()\n",
        "\n",
        "  def forward(self, x):\n",
        "    x = torch.flatten(x, start_dim=1)\n",
        "    x = self.act(self.layer1(x))\n",
        "    x = self.act(self.layer2(x))\n",
        "    x = self.layer3(x)\n",
        "\n",
        "    return x\n",
        "\n",
        "\n",
        "adam_model = Model(32 * 32 * 3, 1024)\n",
        "sgd_model = Model(32 * 32 * 3, 1024)"
      ],
      "metadata": {
        "id": "OLOA-ZGTuVVG"
      },
      "execution_count": 8,
      "outputs": []
    },
    {
      "cell_type": "markdown",
      "source": [
        "## [FEEDBACK] 왜 여기선 LeackyReLU를 쓰나요?\n",
        "\n",
        "leackyReLU가 음수를 0으로 만들지 않아서, 음수에 대해서도 학습이 가능하다는 것은 알겠는데, 여기서는 왜 음수에 대해서 학습하는 것이 중요한지 모르겠습니다."
      ],
      "metadata": {
        "id": "tag1rNcwmnAr"
      }
    },
    {
      "cell_type": "markdown",
      "source": [
        "## [MY CODE] Adam optimizer 사용"
      ],
      "metadata": {
        "id": "S_czjUsRaX1L"
      }
    },
    {
      "cell_type": "code",
      "source": [
        "from torch.optim import Adam, SGD\n",
        "\n",
        "\n",
        "lr = 0.001\n",
        "adam_model = adam_model.to('cuda')\n",
        "sgd_model = sgd_model.to('cuda')\n",
        "\n",
        "sgd_optimizer = SGD(sgd_model.parameters(), lr=lr)\n",
        "adam_optimizer = Adam(adam_model.parameters(), lr=lr)\n",
        "\n",
        "criterion = nn.CrossEntropyLoss()"
      ],
      "metadata": {
        "id": "ypS0TcOlvBhZ"
      },
      "execution_count": 9,
      "outputs": []
    },
    {
      "cell_type": "code",
      "source": [
        "def accuracy(model, dataloader):\n",
        "  with torch.no_grad():\n",
        "    model.eval()\n",
        "    cnt = 0\n",
        "    acc = 0\n",
        "\n",
        "    for data in dataloader:\n",
        "      inputs, labels = data\n",
        "      inputs, labels = inputs.to('cuda'), labels.to('cuda')\n",
        "\n",
        "      preds = model(inputs)\n",
        "      preds = torch.argmax(preds, dim=1)\n",
        "\n",
        "      cnt += labels.shape[0]\n",
        "      acc += (preds == labels).sum().item()\n",
        "\n",
        "    return acc / cnt"
      ],
      "metadata": {
        "id": "G59Zdof_Svvx"
      },
      "execution_count": 10,
      "outputs": []
    },
    {
      "cell_type": "markdown",
      "source": [
        "## [MY CODE] Adam 학습 및 정확도 계산"
      ],
      "metadata": {
        "id": "gtJsuvonamXZ"
      }
    },
    {
      "cell_type": "code",
      "source": [
        "n_epochs = 50\n",
        "adam_train_acc_list = []\n",
        "sgd_train_acc_list = []\n",
        "\n",
        "for epoch in range(n_epochs):\n",
        "  adam_total_loss = 0\n",
        "  sgd_total_loss = 0\n",
        "\n",
        "  for data in trainloader:\n",
        "    adam_model.zero_grad()\n",
        "    sgd_model.zero_grad()\n",
        "\n",
        "    inputs, labels = data\n",
        "    inputs, labels = inputs.to('cuda'), labels.to('cuda')\n",
        "\n",
        "    adam_preds = adam_model(inputs)\n",
        "    adam_loss = criterion(adam_preds, labels)\n",
        "    adam_loss.backward()\n",
        "    adam_optimizer.step()\n",
        "\n",
        "    adam_total_loss += adam_loss.item()\n",
        "\n",
        "    sgd_preds = sgd_model(inputs)\n",
        "    sgd_loss = criterion(sgd_preds, labels)\n",
        "    sgd_loss.backward()\n",
        "    sgd_optimizer.step()\n",
        "\n",
        "    sgd_total_loss += sgd_loss.item()\n",
        "\n",
        "\n",
        "  # Append Accuracies\n",
        "  adam_train_acc_list.append(accuracy(adam_model, trainloader))\n",
        "  sgd_train_acc_list.append(accuracy(sgd_model, testloader))\n",
        "\n",
        "\n",
        "  if epoch % 10 == 0:\n",
        "    print(f\"[Adam] Epoch {epoch:3d} | Loss: {adam_total_loss:.3f}\")\n",
        "    print(f\"[SGD] Epoch {epoch:3d} | Loss: {sgd_total_loss:.3f}\")"
      ],
      "metadata": {
        "colab": {
          "base_uri": "https://localhost:8080/"
        },
        "id": "TryX1hewvNiB",
        "outputId": "b7d1ef28-72c4-412e-f382-526399a1d675"
      },
      "execution_count": 11,
      "outputs": [
        {
          "output_type": "stream",
          "name": "stdout",
          "text": [
            "[Adam] Epoch   0 | Loss: 366.789\n",
            "[SGD] Epoch   0 | Loss: 450.463\n",
            "[Adam] Epoch  10 | Loss: 245.610\n",
            "[SGD] Epoch  10 | Loss: 428.747\n",
            "[Adam] Epoch  20 | Loss: 193.546\n",
            "[SGD] Epoch  20 | Loss: 402.508\n",
            "[Adam] Epoch  30 | Loss: 142.442\n",
            "[SGD] Epoch  30 | Loss: 386.583\n",
            "[Adam] Epoch  40 | Loss: 96.571\n",
            "[SGD] Epoch  40 | Loss: 376.541\n"
          ]
        }
      ]
    },
    {
      "cell_type": "markdown",
      "source": [
        "## [LOG] 학습 과정에서 Epoch별 손실값 출력"
      ],
      "metadata": {
        "id": "jtQeioIaa_t_"
      }
    },
    {
      "cell_type": "code",
      "source": [
        "def plot_acc(accs1, accs2, label1='sgd', label2='adam'):\n",
        "  x = np.arange(len(accs1))\n",
        "\n",
        "  plt.plot(x, accs1, label=label1)\n",
        "  plt.plot(x, accs2, label=label2)\n",
        "  plt.legend()\n",
        "  plt.show()"
      ],
      "metadata": {
        "id": "deNB5C2sTvR9"
      },
      "execution_count": 12,
      "outputs": []
    },
    {
      "cell_type": "code",
      "source": [
        "plot_acc(sgd_train_acc_list, adam_train_acc_list)"
      ],
      "metadata": {
        "colab": {
          "base_uri": "https://localhost:8080/",
          "height": 430
        },
        "id": "r4Aj0CIyZtoL",
        "outputId": "c822adda-4080-468b-a2ad-3fabfa6bf055"
      },
      "execution_count": 13,
      "outputs": [
        {
          "output_type": "display_data",
          "data": {
            "text/plain": [
              "<Figure size 640x480 with 1 Axes>"
            ],
            "image/png": "[encoded data removed]"
          },
          "metadata": {}
        }
      ]
    },
    {
      "cell_type": "markdown",
      "source": [
        "## [LOG] Epoch별 정확도 그래프"
      ],
      "metadata": {
        "id": "y6BMjtWgbWHH"
      }
    },
    {
      "cell_type": "markdown",
      "source": [
        "## [MY CODE] Sigmoid를 사용한 모델"
      ],
      "metadata": {
        "id": "u6-uI3QIw4de"
      }
    },
    {
      "cell_type": "code",
      "source": [
        "from torch import nn\n",
        "\n",
        "\n",
        "class SigmoidModel(nn.Module):\n",
        "  def __init__(self, input_dim, n_dim):\n",
        "    super().__init__()\n",
        "\n",
        "    self.layer1 = nn.Linear(input_dim, n_dim)\n",
        "    self.layer2 = nn.Linear(n_dim, n_dim)\n",
        "    self.layer3 = nn.Linear(n_dim, 10)\n",
        "\n",
        "    self.act = nn.Sigmoid()\n",
        "\n",
        "  def forward(self, x):\n",
        "    x = torch.flatten(x, start_dim=1)\n",
        "    x = self.act(self.layer1(x))\n",
        "    x = self.act(self.layer2(x))\n",
        "    x = self.layer3(x)\n",
        "\n",
        "    return x\n",
        "\n",
        "\n",
        "adam_sigmoid_model = SigmoidModel(32 * 32 * 3, 1024)\n",
        "adam_sigmoid_model = adam_sigmoid_model.to('cuda')\n",
        "adam_sigmoid_optimizer = Adam(adam_sigmoid_model.parameters(), lr=lr)"
      ],
      "metadata": {
        "id": "W7uuuOvWwj1T"
      },
      "execution_count": 14,
      "outputs": []
    },
    {
      "cell_type": "code",
      "source": [
        "n_epochs = 50\n",
        "adam_sigmoid_train_acc_list = []\n",
        "\n",
        "for epoch in range(n_epochs):\n",
        "  total_loss = 0\n",
        "\n",
        "  for data in trainloader:\n",
        "    adam_sigmoid_model.zero_grad()\n",
        "\n",
        "    inputs, labels = data\n",
        "    inputs, labels = inputs.to('cuda'), labels.to('cuda')\n",
        "\n",
        "    preds = adam_sigmoid_model(inputs)\n",
        "    loss = criterion(preds, labels)\n",
        "    loss.backward()\n",
        "    adam_sigmoid_optimizer.step()\n",
        "\n",
        "    total_loss += loss.item()\n",
        "\n",
        "\n",
        "  # Append Accuracies\n",
        "  adam_sigmoid_train_acc_list.append(accuracy(adam_sigmoid_model, trainloader))\n",
        "\n",
        "\n",
        "  if epoch % 10 == 0:\n",
        "    print(f\"[Adam-Sigmoid] Epoch {epoch:3d} | Loss: {total_loss:.3f}\")"
      ],
      "metadata": {
        "colab": {
          "base_uri": "https://localhost:8080/"
        },
        "id": "lAsZOXv3w9cm",
        "outputId": "5cd0f036-98f1-4298-d230-78a4026b4be6"
      },
      "execution_count": 15,
      "outputs": [
        {
          "output_type": "stream",
          "name": "stdout",
          "text": [
            "[Adam-Sigmoid] Epoch   0 | Loss: 391.019\n",
            "[Adam-Sigmoid] Epoch  10 | Loss: 265.178\n",
            "[Adam-Sigmoid] Epoch  20 | Loss: 233.331\n",
            "[Adam-Sigmoid] Epoch  30 | Loss: 200.060\n",
            "[Adam-Sigmoid] Epoch  40 | Loss: 175.787\n"
          ]
        }
      ]
    },
    {
      "cell_type": "code",
      "source": [
        "plot_acc(adam_sigmoid_train_acc_list, adam_train_acc_list, label1=\"sigmoid\", label2=\"leakyReLU\")"
      ],
      "metadata": {
        "colab": {
          "base_uri": "https://localhost:8080/",
          "height": 430
        },
        "id": "HOhemQzLyWSW",
        "outputId": "90bbf183-20f5-439a-bc67-80302dcb69af"
      },
      "execution_count": 16,
      "outputs": [
        {
          "output_type": "display_data",
          "data": {
            "text/plain": [
              "<Figure size 640x480 with 1 Axes>"
            ],
            "image/png": "[encoded data removed]"
          },
          "metadata": {}
        }
      ]
    },
    {
      "cell_type": "markdown",
      "source": [
        "## [LOG] sigmoid와 leakyReLU의 train 정확도"
      ],
      "metadata": {
        "id": "7MWA-pkOyJVq"
      }
    },
    {
      "cell_type": "markdown",
      "source": [
        "## [MY CODE] Droupout 적용"
      ],
      "metadata": {
        "id": "0EHafr6DzGiZ"
      }
    },
    {
      "cell_type": "code",
      "source": [
        "from torch import nn\n",
        "\n",
        "\n",
        "class DropoutModel(nn.Module):\n",
        "  def __init__(self, input_dim, n_dim):\n",
        "    super().__init__()\n",
        "\n",
        "    self.layer1 = nn.Linear(input_dim, n_dim)\n",
        "    self.layer2 = nn.Linear(n_dim, n_dim)\n",
        "    self.layer3 = nn.Linear(n_dim, 10)\n",
        "\n",
        "    self.act = nn.LeakyReLU()\n",
        "\n",
        "    self.dropout = nn.Dropout(0.1)\n",
        "\n",
        "  def forward(self, x):\n",
        "    x = torch.flatten(x, start_dim=1)\n",
        "    x = self.act(self.layer1(x))\n",
        "    x = self.dropout(x)\n",
        "    x = self.act(self.layer2(x))\n",
        "    x = self.dropout(x)\n",
        "    x = self.layer3(x)\n",
        "\n",
        "    return x\n",
        "\n",
        "\n",
        "dropout_model = DropoutModel(32 * 32 * 3, 1024)\n",
        "dropout_model = dropout_model.to('cuda')\n",
        "dropout_optimizer = Adam(dropout_model.parameters(), lr=lr)"
      ],
      "metadata": {
        "id": "fEnDB5QfzQ9I"
      },
      "execution_count": 17,
      "outputs": []
    },
    {
      "cell_type": "code",
      "source": [
        "n_epochs = 50\n",
        "dropout_train_acc_list = []\n",
        "dropout_test_acc_list = []\n",
        "\n",
        "for epoch in range(n_epochs):\n",
        "  total_loss = 0\n",
        "  dropout_model.train()\n",
        "\n",
        "  for data in trainloader:\n",
        "    dropout_model.zero_grad()\n",
        "\n",
        "    inputs, labels = data\n",
        "    inputs, labels = inputs.to('cuda'), labels.to('cuda')\n",
        "\n",
        "    preds = dropout_model(inputs)\n",
        "    loss = criterion(preds, labels)\n",
        "    loss.backward()\n",
        "    dropout_optimizer.step()\n",
        "\n",
        "    total_loss += loss.item()\n",
        "\n",
        "\n",
        "  # Append Accuracies\n",
        "  dropout_train_acc_list.append(accuracy(dropout_model, trainloader))\n",
        "  dropout_test_acc_list.append(accuracy(dropout_model, testloader))\n",
        "\n",
        "\n",
        "  if epoch % 10 == 0:\n",
        "    print(f\"[Dropout] Epoch {epoch:3d} | Loss: {total_loss:.3f}\")"
      ],
      "metadata": {
        "colab": {
          "base_uri": "https://localhost:8080/"
        },
        "id": "jFJ5Lx231CjD",
        "outputId": "ba36574a-0c0f-48c8-ad2f-8281323dde56"
      },
      "execution_count": 18,
      "outputs": [
        {
          "output_type": "stream",
          "name": "stdout",
          "text": [
            "[Dropout] Epoch   0 | Loss: 370.069\n",
            "[Dropout] Epoch  10 | Loss: 266.014\n",
            "[Dropout] Epoch  20 | Loss: 232.079\n",
            "[Dropout] Epoch  30 | Loss: 202.822\n",
            "[Dropout] Epoch  40 | Loss: 179.113\n"
          ]
        }
      ]
    },
    {
      "cell_type": "code",
      "source": [
        "plot_acc(dropout_train_acc_list, dropout_test_acc_list, label1=\"train\", label2=\"test\")"
      ],
      "metadata": {
        "colab": {
          "base_uri": "https://localhost:8080/",
          "height": 431
        },
        "id": "shphMLLKCKsc",
        "outputId": "731403e3-5159-401a-f119-c68e6949f8e5"
      },
      "execution_count": 19,
      "outputs": [
        {
          "output_type": "display_data",
          "data": {
            "text/plain": [
              "<Figure size 640x480 with 1 Axes>"
            ],
            "image/png": "[encoded data removed]"
          },
          "metadata": {}
        }
      ]
    },
    {
      "cell_type": "markdown",
      "source": [
        "## [FEEDBACK] loss와 정확도가 이 정도면 괜찮은지 궁금합니다.\n",
        "\n",
        "loss가 82정도 나오는데, 정확도는 0.9에 수렴하고 있습니다.\n",
        "이 정도 정확도면 충분한 것인지,\n",
        "더 학습을 시키면 정확도가 증가하게 될지 과적합이 될지 궁금합니다."
      ],
      "metadata": {
        "id": "fTjXWVCScKiZ"
      }
    }
  ]
}