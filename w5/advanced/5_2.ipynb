{
  "nbformat": 4,
  "nbformat_minor": 0,
  "metadata": {
    "colab": {
      "provenance": [],
      "include_colab_link": true
    },
    "kernelspec": {
      "name": "python3",
      "display_name": "Python 3"
    },
    "language_info": {
      "name": "python"
    }
  },
  "cells": [
    {
      "cell_type": "markdown",
      "metadata": {
        "id": "view-in-github",
        "colab_type": "text"
      },
      "source": [
        "<a href=\"https://colab.research.google.com/github/teacherSsamko/DL-study/blob/main/w5_2.ipynb\" target=\"_parent\"><img src=\"https://colab.research.google.com/assets/colab-badge.svg\" alt=\"Open In Colab\"/></a>"
      ]
    },
    {
      "cell_type": "markdown",
      "source": [
        "# [5주차] 심화과제: 다양한 형태의 입력을 가지는 LLM 서비스 개발\n",
        "\n",
        "## 코드 리뷰 LLM 서비스\n",
        "\n",
        "\n",
        "코드 리뷰 LLM 서비스는 다음과 같이 구성됩니다:\n",
        "\n",
        "- **입력:**  코드 리뷰 서비스의 입력은 다음 두 가지 중 하나로 결정하시면 됩니다:\n",
        "    - **하나의 함수와 같이 짧은 코드:** 사용자에게 직접 코드 리뷰를 받고 싶은 코드를 입력으로 받습니다. 함수 구현과 같이 짧은 코드가 될 것 입니다.\n",
        "    - **Github repository:** 특정 github repository 링크를 입력받아, 프로젝트의 모든 코드들을 리뷰 받을 수도 있습니다.\n",
        "- **방법론:** 입력 형태에 따라 다음 두 가지 방법 중 하나를 선택하시면 됩니다:\n",
        "    - **짧은 코드:** 만약 짧은 길이의 코드를 입력받는 경우, 간단한 prompting을 통해 LLM만으로 코드 리뷰를 받으시면 됩니다.\n",
        "    - **Github repository:** repository를 입력으로 받는 경우, 모든 코드들을 concat하여 짧은 코드와 같이 prompting 할 수도 있습니다. 아니면 RAG를 통해 문제 있는 부분들만 추출한 후(이 경우 prompt를 어떻게 정할지가 중요합니다), 이들을 가지고 코드 리뷰를 진행할 수도 있습니다.\n",
        "- **출력:** 주어진 코드에서 문제되는 부분과 왜 문제가 되는지에 대한 간단한 설명이 출력되어야 합니다.\n",
        "\n",
        "위의 LLM 서비스를 다음 요구사항을 충족시키며 개발하시면 됩니다:\n",
        "\n",
        "- 입력 및 방법론 결정\n",
        "    - 위에서 주어진 선택지들 중에서 어떤 입력을 받으실지 정하셔야 합니다.\n",
        "- 코드 리뷰 prompting 제안\n",
        "    - 코드 리뷰가 출력되도록 prompt를 구성하셔야 합니다. 만약 RAG도 활용하셔야 하는 경우, 문제 있는 부분들을 우선 추출할 수 있도록 prompt를 설계하는 것이 중요할 것입니다.\n",
        "- 실제 코드 리뷰 결과 출력"
      ],
      "metadata": {
        "id": "apVjw33jeWg0"
      }
    },
    {
      "cell_type": "markdown",
      "source": [
        "## 입력 및 방법론\n",
        "\n",
        "github repository 링크를 입력 받아(입력), RAG를 통해(방법론) 코드 리뷰 진행"
      ],
      "metadata": {
        "id": "QQEUk6FHrLsM"
      }
    },
    {
      "cell_type": "code",
      "execution_count": 1,
      "metadata": {
        "colab": {
          "base_uri": "https://localhost:8080/"
        },
        "id": "TwaANvAGIwl4",
        "outputId": "fb69d258-8208-4d46-f522-d3a1966a5fed",
        "collapsed": true
      },
      "outputs": [
        {
          "output_type": "stream",
          "name": "stdout",
          "text": [
            "Requirement already satisfied: langchain-community in /usr/local/lib/python3.10/dist-packages (0.3.14)\n",
            "Requirement already satisfied: langchain-chroma in /usr/local/lib/python3.10/dist-packages (0.2.0)\n",
            "Requirement already satisfied: langchain-openai in /usr/local/lib/python3.10/dist-packages (0.3.0)\n",
            "Requirement already satisfied: PyGithub in /usr/local/lib/python3.10/dist-packages (2.5.0)\n",
            "Requirement already satisfied: sentence-transformers in /usr/local/lib/python3.10/dist-packages (3.3.1)\n",
            "Requirement already satisfied: langchain-huggingface in /usr/local/lib/python3.10/dist-packages (0.1.2)\n",
            "Requirement already satisfied: transformers in /usr/local/lib/python3.10/dist-packages (4.48.0)\n",
            "Requirement already satisfied: PyYAML>=5.3 in /usr/local/lib/python3.10/dist-packages (from langchain-community) (6.0.2)\n",
            "Requirement already satisfied: SQLAlchemy<3,>=1.4 in /usr/local/lib/python3.10/dist-packages (from langchain-community) (2.0.36)\n",
            "Requirement already satisfied: aiohttp<4.0.0,>=3.8.3 in /usr/local/lib/python3.10/dist-packages (from langchain-community) (3.11.10)\n",
            "Requirement already satisfied: dataclasses-json<0.7,>=0.5.7 in /usr/local/lib/python3.10/dist-packages (from langchain-community) (0.6.7)\n",
            "Requirement already satisfied: httpx-sse<0.5.0,>=0.4.0 in /usr/local/lib/python3.10/dist-packages (from langchain-community) (0.4.0)\n",
            "Requirement already satisfied: langchain<0.4.0,>=0.3.14 in /usr/local/lib/python3.10/dist-packages (from langchain-community) (0.3.14)\n",
            "Requirement already satisfied: langchain-core<0.4.0,>=0.3.29 in /usr/local/lib/python3.10/dist-packages (from langchain-community) (0.3.29)\n",
            "Requirement already satisfied: langsmith<0.3,>=0.1.125 in /usr/local/lib/python3.10/dist-packages (from langchain-community) (0.2.3)\n",
            "Requirement already satisfied: numpy<2,>=1.22.4 in /usr/local/lib/python3.10/dist-packages (from langchain-community) (1.26.4)\n",
            "Requirement already satisfied: pydantic-settings<3.0.0,>=2.4.0 in /usr/local/lib/python3.10/dist-packages (from langchain-community) (2.7.1)\n",
            "Requirement already satisfied: requests<3,>=2 in /usr/local/lib/python3.10/dist-packages (from langchain-community) (2.32.3)\n",
            "Requirement already satisfied: tenacity!=8.4.0,<10,>=8.1.0 in /usr/local/lib/python3.10/dist-packages (from langchain-community) (9.0.0)\n",
            "Requirement already satisfied: chromadb!=0.5.10,!=0.5.11,!=0.5.12,!=0.5.4,!=0.5.5,!=0.5.7,!=0.5.9,<0.6.0,>=0.4.0 in /usr/local/lib/python3.10/dist-packages (from langchain-chroma) (0.5.20)\n",
            "Requirement already satisfied: fastapi<1,>=0.95.2 in /usr/local/lib/python3.10/dist-packages (from langchain-chroma) (0.115.6)\n",
            "Requirement already satisfied: openai<2.0.0,>=1.58.1 in /usr/local/lib/python3.10/dist-packages (from langchain-openai) (1.59.7)\n",
            "Requirement already satisfied: tiktoken<1,>=0.7 in /usr/local/lib/python3.10/dist-packages (from langchain-openai) (0.8.0)\n",
            "Requirement already satisfied: pynacl>=1.4.0 in /usr/local/lib/python3.10/dist-packages (from PyGithub) (1.5.0)\n",
            "Requirement already satisfied: pyjwt>=2.4.0 in /usr/local/lib/python3.10/dist-packages (from pyjwt[crypto]>=2.4.0->PyGithub) (2.10.1)\n",
            "Requirement already satisfied: typing-extensions>=4.0.0 in /usr/local/lib/python3.10/dist-packages (from PyGithub) (4.12.2)\n",
            "Requirement already satisfied: urllib3>=1.26.0 in /usr/local/lib/python3.10/dist-packages (from PyGithub) (2.2.3)\n",
            "Requirement already satisfied: Deprecated in /usr/local/lib/python3.10/dist-packages (from PyGithub) (1.2.15)\n",
            "Requirement already satisfied: tqdm in /usr/local/lib/python3.10/dist-packages (from sentence-transformers) (4.67.1)\n",
            "Requirement already satisfied: torch>=1.11.0 in /usr/local/lib/python3.10/dist-packages (from sentence-transformers) (2.5.1+cu121)\n",
            "Requirement already satisfied: scikit-learn in /usr/local/lib/python3.10/dist-packages (from sentence-transformers) (1.6.0)\n",
            "Requirement already satisfied: scipy in /usr/local/lib/python3.10/dist-packages (from sentence-transformers) (1.13.1)\n",
            "Requirement already satisfied: huggingface-hub>=0.20.0 in /usr/local/lib/python3.10/dist-packages (from sentence-transformers) (0.27.0)\n",
            "Requirement already satisfied: Pillow in /usr/local/lib/python3.10/dist-packages (from sentence-transformers) (11.0.0)\n",
            "Requirement already satisfied: tokenizers>=0.19.1 in /usr/local/lib/python3.10/dist-packages (from langchain-huggingface) (0.21.0)\n",
            "Requirement already satisfied: filelock in /usr/local/lib/python3.10/dist-packages (from transformers) (3.16.1)\n",
            "Requirement already satisfied: packaging>=20.0 in /usr/local/lib/python3.10/dist-packages (from transformers) (24.2)\n",
            "Requirement already satisfied: regex!=2019.12.17 in /usr/local/lib/python3.10/dist-packages (from transformers) (2024.11.6)\n",
            "Requirement already satisfied: safetensors>=0.4.1 in /usr/local/lib/python3.10/dist-packages (from transformers) (0.4.5)\n",
            "Requirement already satisfied: aiohappyeyeballs>=2.3.0 in /usr/local/lib/python3.10/dist-packages (from aiohttp<4.0.0,>=3.8.3->langchain-community) (2.4.4)\n",
            "Requirement already satisfied: aiosignal>=1.1.2 in /usr/local/lib/python3.10/dist-packages (from aiohttp<4.0.0,>=3.8.3->langchain-community) (1.3.2)\n",
            "Requirement already satisfied: async-timeout<6.0,>=4.0 in /usr/local/lib/python3.10/dist-packages (from aiohttp<4.0.0,>=3.8.3->langchain-community) (4.0.3)\n",
            "Requirement already satisfied: attrs>=17.3.0 in /usr/local/lib/python3.10/dist-packages (from aiohttp<4.0.0,>=3.8.3->langchain-community) (24.3.0)\n",
            "Requirement already satisfied: frozenlist>=1.1.1 in /usr/local/lib/python3.10/dist-packages (from aiohttp<4.0.0,>=3.8.3->langchain-community) (1.5.0)\n",
            "Requirement already satisfied: multidict<7.0,>=4.5 in /usr/local/lib/python3.10/dist-packages (from aiohttp<4.0.0,>=3.8.3->langchain-community) (6.1.0)\n",
            "Requirement already satisfied: propcache>=0.2.0 in /usr/local/lib/python3.10/dist-packages (from aiohttp<4.0.0,>=3.8.3->langchain-community) (0.2.1)\n",
            "Requirement already satisfied: yarl<2.0,>=1.17.0 in /usr/local/lib/python3.10/dist-packages (from aiohttp<4.0.0,>=3.8.3->langchain-community) (1.18.3)\n",
            "Requirement already satisfied: build>=1.0.3 in /usr/local/lib/python3.10/dist-packages (from chromadb!=0.5.10,!=0.5.11,!=0.5.12,!=0.5.4,!=0.5.5,!=0.5.7,!=0.5.9,<0.6.0,>=0.4.0->langchain-chroma) (1.2.2.post1)\n",
            "Requirement already satisfied: pydantic>=1.9 in /usr/local/lib/python3.10/dist-packages (from chromadb!=0.5.10,!=0.5.11,!=0.5.12,!=0.5.4,!=0.5.5,!=0.5.7,!=0.5.9,<0.6.0,>=0.4.0->langchain-chroma) (2.10.3)\n",
            "Requirement already satisfied: chroma-hnswlib==0.7.6 in /usr/local/lib/python3.10/dist-packages (from chromadb!=0.5.10,!=0.5.11,!=0.5.12,!=0.5.4,!=0.5.5,!=0.5.7,!=0.5.9,<0.6.0,>=0.4.0->langchain-chroma) (0.7.6)\n",
            "Requirement already satisfied: uvicorn>=0.18.3 in /usr/local/lib/python3.10/dist-packages (from uvicorn[standard]>=0.18.3->chromadb!=0.5.10,!=0.5.11,!=0.5.12,!=0.5.4,!=0.5.5,!=0.5.7,!=0.5.9,<0.6.0,>=0.4.0->langchain-chroma) (0.34.0)\n",
            "Requirement already satisfied: posthog>=2.4.0 in /usr/local/lib/python3.10/dist-packages (from chromadb!=0.5.10,!=0.5.11,!=0.5.12,!=0.5.4,!=0.5.5,!=0.5.7,!=0.5.9,<0.6.0,>=0.4.0->langchain-chroma) (3.8.3)\n",
            "Requirement already satisfied: onnxruntime>=1.14.1 in /usr/local/lib/python3.10/dist-packages (from chromadb!=0.5.10,!=0.5.11,!=0.5.12,!=0.5.4,!=0.5.5,!=0.5.7,!=0.5.9,<0.6.0,>=0.4.0->langchain-chroma) (1.20.1)\n",
            "Requirement already satisfied: opentelemetry-api>=1.2.0 in /usr/local/lib/python3.10/dist-packages (from chromadb!=0.5.10,!=0.5.11,!=0.5.12,!=0.5.4,!=0.5.5,!=0.5.7,!=0.5.9,<0.6.0,>=0.4.0->langchain-chroma) (1.29.0)\n",
            "Requirement already satisfied: opentelemetry-exporter-otlp-proto-grpc>=1.2.0 in /usr/local/lib/python3.10/dist-packages (from chromadb!=0.5.10,!=0.5.11,!=0.5.12,!=0.5.4,!=0.5.5,!=0.5.7,!=0.5.9,<0.6.0,>=0.4.0->langchain-chroma) (1.29.0)\n",
            "Requirement already satisfied: opentelemetry-instrumentation-fastapi>=0.41b0 in /usr/local/lib/python3.10/dist-packages (from chromadb!=0.5.10,!=0.5.11,!=0.5.12,!=0.5.4,!=0.5.5,!=0.5.7,!=0.5.9,<0.6.0,>=0.4.0->langchain-chroma) (0.50b0)\n",
            "Requirement already satisfied: opentelemetry-sdk>=1.2.0 in /usr/local/lib/python3.10/dist-packages (from chromadb!=0.5.10,!=0.5.11,!=0.5.12,!=0.5.4,!=0.5.5,!=0.5.7,!=0.5.9,<0.6.0,>=0.4.0->langchain-chroma) (1.29.0)\n",
            "Requirement already satisfied: pypika>=0.48.9 in /usr/local/lib/python3.10/dist-packages (from chromadb!=0.5.10,!=0.5.11,!=0.5.12,!=0.5.4,!=0.5.5,!=0.5.7,!=0.5.9,<0.6.0,>=0.4.0->langchain-chroma) (0.48.9)\n",
            "Requirement already satisfied: overrides>=7.3.1 in /usr/local/lib/python3.10/dist-packages (from chromadb!=0.5.10,!=0.5.11,!=0.5.12,!=0.5.4,!=0.5.5,!=0.5.7,!=0.5.9,<0.6.0,>=0.4.0->langchain-chroma) (7.7.0)\n",
            "Requirement already satisfied: importlib-resources in /usr/local/lib/python3.10/dist-packages (from chromadb!=0.5.10,!=0.5.11,!=0.5.12,!=0.5.4,!=0.5.5,!=0.5.7,!=0.5.9,<0.6.0,>=0.4.0->langchain-chroma) (6.4.5)\n",
            "Requirement already satisfied: grpcio>=1.58.0 in /usr/local/lib/python3.10/dist-packages (from chromadb!=0.5.10,!=0.5.11,!=0.5.12,!=0.5.4,!=0.5.5,!=0.5.7,!=0.5.9,<0.6.0,>=0.4.0->langchain-chroma) (1.68.1)\n",
            "Requirement already satisfied: bcrypt>=4.0.1 in /usr/local/lib/python3.10/dist-packages (from chromadb!=0.5.10,!=0.5.11,!=0.5.12,!=0.5.4,!=0.5.5,!=0.5.7,!=0.5.9,<0.6.0,>=0.4.0->langchain-chroma) (4.2.1)\n",
            "Requirement already satisfied: typer>=0.9.0 in /usr/local/lib/python3.10/dist-packages (from chromadb!=0.5.10,!=0.5.11,!=0.5.12,!=0.5.4,!=0.5.5,!=0.5.7,!=0.5.9,<0.6.0,>=0.4.0->langchain-chroma) (0.15.1)\n",
            "Requirement already satisfied: kubernetes>=28.1.0 in /usr/local/lib/python3.10/dist-packages (from chromadb!=0.5.10,!=0.5.11,!=0.5.12,!=0.5.4,!=0.5.5,!=0.5.7,!=0.5.9,<0.6.0,>=0.4.0->langchain-chroma) (31.0.0)\n",
            "Requirement already satisfied: mmh3>=4.0.1 in /usr/local/lib/python3.10/dist-packages (from chromadb!=0.5.10,!=0.5.11,!=0.5.12,!=0.5.4,!=0.5.5,!=0.5.7,!=0.5.9,<0.6.0,>=0.4.0->langchain-chroma) (5.0.1)\n",
            "Requirement already satisfied: orjson>=3.9.12 in /usr/local/lib/python3.10/dist-packages (from chromadb!=0.5.10,!=0.5.11,!=0.5.12,!=0.5.4,!=0.5.5,!=0.5.7,!=0.5.9,<0.6.0,>=0.4.0->langchain-chroma) (3.10.12)\n",
            "Requirement already satisfied: httpx>=0.27.0 in /usr/local/lib/python3.10/dist-packages (from chromadb!=0.5.10,!=0.5.11,!=0.5.12,!=0.5.4,!=0.5.5,!=0.5.7,!=0.5.9,<0.6.0,>=0.4.0->langchain-chroma) (0.28.1)\n",
            "Requirement already satisfied: rich>=10.11.0 in /usr/local/lib/python3.10/dist-packages (from chromadb!=0.5.10,!=0.5.11,!=0.5.12,!=0.5.4,!=0.5.5,!=0.5.7,!=0.5.9,<0.6.0,>=0.4.0->langchain-chroma) (13.9.4)\n",
            "Requirement already satisfied: marshmallow<4.0.0,>=3.18.0 in /usr/local/lib/python3.10/dist-packages (from dataclasses-json<0.7,>=0.5.7->langchain-community) (3.25.1)\n",
            "Requirement already satisfied: typing-inspect<1,>=0.4.0 in /usr/local/lib/python3.10/dist-packages (from dataclasses-json<0.7,>=0.5.7->langchain-community) (0.9.0)\n",
            "Requirement already satisfied: starlette<0.42.0,>=0.40.0 in /usr/local/lib/python3.10/dist-packages (from fastapi<1,>=0.95.2->langchain-chroma) (0.41.3)\n",
            "Requirement already satisfied: fsspec>=2023.5.0 in /usr/local/lib/python3.10/dist-packages (from huggingface-hub>=0.20.0->sentence-transformers) (2024.10.0)\n",
            "Requirement already satisfied: langchain-text-splitters<0.4.0,>=0.3.3 in /usr/local/lib/python3.10/dist-packages (from langchain<0.4.0,>=0.3.14->langchain-community) (0.3.3)\n",
            "Requirement already satisfied: jsonpatch<2.0,>=1.33 in /usr/local/lib/python3.10/dist-packages (from langchain-core<0.4.0,>=0.3.29->langchain-community) (1.33)\n",
            "Requirement already satisfied: requests-toolbelt<2.0.0,>=1.0.0 in /usr/local/lib/python3.10/dist-packages (from langsmith<0.3,>=0.1.125->langchain-community) (1.0.0)\n",
            "Requirement already satisfied: anyio<5,>=3.5.0 in /usr/local/lib/python3.10/dist-packages (from openai<2.0.0,>=1.58.1->langchain-openai) (3.7.1)\n",
            "Requirement already satisfied: distro<2,>=1.7.0 in /usr/local/lib/python3.10/dist-packages (from openai<2.0.0,>=1.58.1->langchain-openai) (1.9.0)\n",
            "Requirement already satisfied: jiter<1,>=0.4.0 in /usr/local/lib/python3.10/dist-packages (from openai<2.0.0,>=1.58.1->langchain-openai) (0.8.2)\n",
            "Requirement already satisfied: sniffio in /usr/local/lib/python3.10/dist-packages (from openai<2.0.0,>=1.58.1->langchain-openai) (1.3.1)\n",
            "Requirement already satisfied: python-dotenv>=0.21.0 in /usr/local/lib/python3.10/dist-packages (from pydantic-settings<3.0.0,>=2.4.0->langchain-community) (1.0.1)\n",
            "Requirement already satisfied: cryptography>=3.4.0 in /usr/local/lib/python3.10/dist-packages (from pyjwt[crypto]>=2.4.0->PyGithub) (43.0.3)\n",
            "Requirement already satisfied: cffi>=1.4.1 in /usr/local/lib/python3.10/dist-packages (from pynacl>=1.4.0->PyGithub) (1.17.1)\n",
            "Requirement already satisfied: charset-normalizer<4,>=2 in /usr/local/lib/python3.10/dist-packages (from requests<3,>=2->langchain-community) (3.4.0)\n",
            "Requirement already satisfied: idna<4,>=2.5 in /usr/local/lib/python3.10/dist-packages (from requests<3,>=2->langchain-community) (3.10)\n",
            "Requirement already satisfied: certifi>=2017.4.17 in /usr/local/lib/python3.10/dist-packages (from requests<3,>=2->langchain-community) (2024.12.14)\n",
            "Requirement already satisfied: greenlet!=0.4.17 in /usr/local/lib/python3.10/dist-packages (from SQLAlchemy<3,>=1.4->langchain-community) (3.1.1)\n",
            "Requirement already satisfied: networkx in /usr/local/lib/python3.10/dist-packages (from torch>=1.11.0->sentence-transformers) (3.4.2)\n",
            "Requirement already satisfied: jinja2 in /usr/local/lib/python3.10/dist-packages (from torch>=1.11.0->sentence-transformers) (3.1.4)\n",
            "Requirement already satisfied: sympy==1.13.1 in /usr/local/lib/python3.10/dist-packages (from torch>=1.11.0->sentence-transformers) (1.13.1)\n",
            "Requirement already satisfied: mpmath<1.4,>=1.1.0 in /usr/local/lib/python3.10/dist-packages (from sympy==1.13.1->torch>=1.11.0->sentence-transformers) (1.3.0)\n",
            "Requirement already satisfied: wrapt<2,>=1.10 in /usr/local/lib/python3.10/dist-packages (from Deprecated->PyGithub) (1.17.0)\n",
            "Requirement already satisfied: joblib>=1.2.0 in /usr/local/lib/python3.10/dist-packages (from scikit-learn->sentence-transformers) (1.4.2)\n",
            "Requirement already satisfied: threadpoolctl>=3.1.0 in /usr/local/lib/python3.10/dist-packages (from scikit-learn->sentence-transformers) (3.5.0)\n",
            "Requirement already satisfied: exceptiongroup in /usr/local/lib/python3.10/dist-packages (from anyio<5,>=3.5.0->openai<2.0.0,>=1.58.1->langchain-openai) (1.2.2)\n",
            "Requirement already satisfied: pyproject_hooks in /usr/local/lib/python3.10/dist-packages (from build>=1.0.3->chromadb!=0.5.10,!=0.5.11,!=0.5.12,!=0.5.4,!=0.5.5,!=0.5.7,!=0.5.9,<0.6.0,>=0.4.0->langchain-chroma) (1.2.0)\n",
            "Requirement already satisfied: tomli>=1.1.0 in /usr/local/lib/python3.10/dist-packages (from build>=1.0.3->chromadb!=0.5.10,!=0.5.11,!=0.5.12,!=0.5.4,!=0.5.5,!=0.5.7,!=0.5.9,<0.6.0,>=0.4.0->langchain-chroma) (2.2.1)\n",
            "Requirement already satisfied: pycparser in /usr/local/lib/python3.10/dist-packages (from cffi>=1.4.1->pynacl>=1.4.0->PyGithub) (2.22)\n",
            "Requirement already satisfied: httpcore==1.* in /usr/local/lib/python3.10/dist-packages (from httpx>=0.27.0->chromadb!=0.5.10,!=0.5.11,!=0.5.12,!=0.5.4,!=0.5.5,!=0.5.7,!=0.5.9,<0.6.0,>=0.4.0->langchain-chroma) (1.0.7)\n",
            "Requirement already satisfied: h11<0.15,>=0.13 in /usr/local/lib/python3.10/dist-packages (from httpcore==1.*->httpx>=0.27.0->chromadb!=0.5.10,!=0.5.11,!=0.5.12,!=0.5.4,!=0.5.5,!=0.5.7,!=0.5.9,<0.6.0,>=0.4.0->langchain-chroma) (0.14.0)\n",
            "Requirement already satisfied: jsonpointer>=1.9 in /usr/local/lib/python3.10/dist-packages (from jsonpatch<2.0,>=1.33->langchain-core<0.4.0,>=0.3.29->langchain-community) (3.0.0)\n",
            "Requirement already satisfied: six>=1.9.0 in /usr/local/lib/python3.10/dist-packages (from kubernetes>=28.1.0->chromadb!=0.5.10,!=0.5.11,!=0.5.12,!=0.5.4,!=0.5.5,!=0.5.7,!=0.5.9,<0.6.0,>=0.4.0->langchain-chroma) (1.17.0)\n",
            "Requirement already satisfied: python-dateutil>=2.5.3 in /usr/local/lib/python3.10/dist-packages (from kubernetes>=28.1.0->chromadb!=0.5.10,!=0.5.11,!=0.5.12,!=0.5.4,!=0.5.5,!=0.5.7,!=0.5.9,<0.6.0,>=0.4.0->langchain-chroma) (2.8.2)\n",
            "Requirement already satisfied: google-auth>=1.0.1 in /usr/local/lib/python3.10/dist-packages (from kubernetes>=28.1.0->chromadb!=0.5.10,!=0.5.11,!=0.5.12,!=0.5.4,!=0.5.5,!=0.5.7,!=0.5.9,<0.6.0,>=0.4.0->langchain-chroma) (2.27.0)\n",
            "Requirement already satisfied: websocket-client!=0.40.0,!=0.41.*,!=0.42.*,>=0.32.0 in /usr/local/lib/python3.10/dist-packages (from kubernetes>=28.1.0->chromadb!=0.5.10,!=0.5.11,!=0.5.12,!=0.5.4,!=0.5.5,!=0.5.7,!=0.5.9,<0.6.0,>=0.4.0->langchain-chroma) (1.8.0)\n",
            "Requirement already satisfied: requests-oauthlib in /usr/local/lib/python3.10/dist-packages (from kubernetes>=28.1.0->chromadb!=0.5.10,!=0.5.11,!=0.5.12,!=0.5.4,!=0.5.5,!=0.5.7,!=0.5.9,<0.6.0,>=0.4.0->langchain-chroma) (1.3.1)\n",
            "Requirement already satisfied: oauthlib>=3.2.2 in /usr/local/lib/python3.10/dist-packages (from kubernetes>=28.1.0->chromadb!=0.5.10,!=0.5.11,!=0.5.12,!=0.5.4,!=0.5.5,!=0.5.7,!=0.5.9,<0.6.0,>=0.4.0->langchain-chroma) (3.2.2)\n",
            "Requirement already satisfied: durationpy>=0.7 in /usr/local/lib/python3.10/dist-packages (from kubernetes>=28.1.0->chromadb!=0.5.10,!=0.5.11,!=0.5.12,!=0.5.4,!=0.5.5,!=0.5.7,!=0.5.9,<0.6.0,>=0.4.0->langchain-chroma) (0.9)\n",
            "Requirement already satisfied: coloredlogs in /usr/local/lib/python3.10/dist-packages (from onnxruntime>=1.14.1->chromadb!=0.5.10,!=0.5.11,!=0.5.12,!=0.5.4,!=0.5.5,!=0.5.7,!=0.5.9,<0.6.0,>=0.4.0->langchain-chroma) (15.0.1)\n",
            "Requirement already satisfied: flatbuffers in /usr/local/lib/python3.10/dist-packages (from onnxruntime>=1.14.1->chromadb!=0.5.10,!=0.5.11,!=0.5.12,!=0.5.4,!=0.5.5,!=0.5.7,!=0.5.9,<0.6.0,>=0.4.0->langchain-chroma) (24.3.25)\n",
            "Requirement already satisfied: protobuf in /usr/local/lib/python3.10/dist-packages (from onnxruntime>=1.14.1->chromadb!=0.5.10,!=0.5.11,!=0.5.12,!=0.5.4,!=0.5.5,!=0.5.7,!=0.5.9,<0.6.0,>=0.4.0->langchain-chroma) (5.29.3)\n",
            "Requirement already satisfied: importlib-metadata<=8.5.0,>=6.0 in /usr/local/lib/python3.10/dist-packages (from opentelemetry-api>=1.2.0->chromadb!=0.5.10,!=0.5.11,!=0.5.12,!=0.5.4,!=0.5.5,!=0.5.7,!=0.5.9,<0.6.0,>=0.4.0->langchain-chroma) (8.5.0)\n",
            "Requirement already satisfied: googleapis-common-protos~=1.52 in /usr/local/lib/python3.10/dist-packages (from opentelemetry-exporter-otlp-proto-grpc>=1.2.0->chromadb!=0.5.10,!=0.5.11,!=0.5.12,!=0.5.4,!=0.5.5,!=0.5.7,!=0.5.9,<0.6.0,>=0.4.0->langchain-chroma) (1.66.0)\n",
            "Requirement already satisfied: opentelemetry-exporter-otlp-proto-common==1.29.0 in /usr/local/lib/python3.10/dist-packages (from opentelemetry-exporter-otlp-proto-grpc>=1.2.0->chromadb!=0.5.10,!=0.5.11,!=0.5.12,!=0.5.4,!=0.5.5,!=0.5.7,!=0.5.9,<0.6.0,>=0.4.0->langchain-chroma) (1.29.0)\n",
            "Requirement already satisfied: opentelemetry-proto==1.29.0 in /usr/local/lib/python3.10/dist-packages (from opentelemetry-exporter-otlp-proto-grpc>=1.2.0->chromadb!=0.5.10,!=0.5.11,!=0.5.12,!=0.5.4,!=0.5.5,!=0.5.7,!=0.5.9,<0.6.0,>=0.4.0->langchain-chroma) (1.29.0)\n",
            "Requirement already satisfied: opentelemetry-instrumentation-asgi==0.50b0 in /usr/local/lib/python3.10/dist-packages (from opentelemetry-instrumentation-fastapi>=0.41b0->chromadb!=0.5.10,!=0.5.11,!=0.5.12,!=0.5.4,!=0.5.5,!=0.5.7,!=0.5.9,<0.6.0,>=0.4.0->langchain-chroma) (0.50b0)\n",
            "Requirement already satisfied: opentelemetry-instrumentation==0.50b0 in /usr/local/lib/python3.10/dist-packages (from opentelemetry-instrumentation-fastapi>=0.41b0->chromadb!=0.5.10,!=0.5.11,!=0.5.12,!=0.5.4,!=0.5.5,!=0.5.7,!=0.5.9,<0.6.0,>=0.4.0->langchain-chroma) (0.50b0)\n",
            "Requirement already satisfied: opentelemetry-semantic-conventions==0.50b0 in /usr/local/lib/python3.10/dist-packages (from opentelemetry-instrumentation-fastapi>=0.41b0->chromadb!=0.5.10,!=0.5.11,!=0.5.12,!=0.5.4,!=0.5.5,!=0.5.7,!=0.5.9,<0.6.0,>=0.4.0->langchain-chroma) (0.50b0)\n",
            "Requirement already satisfied: opentelemetry-util-http==0.50b0 in /usr/local/lib/python3.10/dist-packages (from opentelemetry-instrumentation-fastapi>=0.41b0->chromadb!=0.5.10,!=0.5.11,!=0.5.12,!=0.5.4,!=0.5.5,!=0.5.7,!=0.5.9,<0.6.0,>=0.4.0->langchain-chroma) (0.50b0)\n",
            "Requirement already satisfied: asgiref~=3.0 in /usr/local/lib/python3.10/dist-packages (from opentelemetry-instrumentation-asgi==0.50b0->opentelemetry-instrumentation-fastapi>=0.41b0->chromadb!=0.5.10,!=0.5.11,!=0.5.12,!=0.5.4,!=0.5.5,!=0.5.7,!=0.5.9,<0.6.0,>=0.4.0->langchain-chroma) (3.8.1)\n",
            "Requirement already satisfied: monotonic>=1.5 in /usr/local/lib/python3.10/dist-packages (from posthog>=2.4.0->chromadb!=0.5.10,!=0.5.11,!=0.5.12,!=0.5.4,!=0.5.5,!=0.5.7,!=0.5.9,<0.6.0,>=0.4.0->langchain-chroma) (1.6)\n",
            "Requirement already satisfied: backoff>=1.10.0 in /usr/local/lib/python3.10/dist-packages (from posthog>=2.4.0->chromadb!=0.5.10,!=0.5.11,!=0.5.12,!=0.5.4,!=0.5.5,!=0.5.7,!=0.5.9,<0.6.0,>=0.4.0->langchain-chroma) (2.2.1)\n",
            "Requirement already satisfied: annotated-types>=0.6.0 in /usr/local/lib/python3.10/dist-packages (from pydantic>=1.9->chromadb!=0.5.10,!=0.5.11,!=0.5.12,!=0.5.4,!=0.5.5,!=0.5.7,!=0.5.9,<0.6.0,>=0.4.0->langchain-chroma) (0.7.0)\n",
            "Requirement already satisfied: pydantic-core==2.27.1 in /usr/local/lib/python3.10/dist-packages (from pydantic>=1.9->chromadb!=0.5.10,!=0.5.11,!=0.5.12,!=0.5.4,!=0.5.5,!=0.5.7,!=0.5.9,<0.6.0,>=0.4.0->langchain-chroma) (2.27.1)\n",
            "Requirement already satisfied: markdown-it-py>=2.2.0 in /usr/local/lib/python3.10/dist-packages (from rich>=10.11.0->chromadb!=0.5.10,!=0.5.11,!=0.5.12,!=0.5.4,!=0.5.5,!=0.5.7,!=0.5.9,<0.6.0,>=0.4.0->langchain-chroma) (3.0.0)\n",
            "Requirement already satisfied: pygments<3.0.0,>=2.13.0 in /usr/local/lib/python3.10/dist-packages (from rich>=10.11.0->chromadb!=0.5.10,!=0.5.11,!=0.5.12,!=0.5.4,!=0.5.5,!=0.5.7,!=0.5.9,<0.6.0,>=0.4.0->langchain-chroma) (2.18.0)\n",
            "Requirement already satisfied: click>=8.0.0 in /usr/local/lib/python3.10/dist-packages (from typer>=0.9.0->chromadb!=0.5.10,!=0.5.11,!=0.5.12,!=0.5.4,!=0.5.5,!=0.5.7,!=0.5.9,<0.6.0,>=0.4.0->langchain-chroma) (8.1.7)\n",
            "Requirement already satisfied: shellingham>=1.3.0 in /usr/local/lib/python3.10/dist-packages (from typer>=0.9.0->chromadb!=0.5.10,!=0.5.11,!=0.5.12,!=0.5.4,!=0.5.5,!=0.5.7,!=0.5.9,<0.6.0,>=0.4.0->langchain-chroma) (1.5.4)\n",
            "Requirement already satisfied: mypy-extensions>=0.3.0 in /usr/local/lib/python3.10/dist-packages (from typing-inspect<1,>=0.4.0->dataclasses-json<0.7,>=0.5.7->langchain-community) (1.0.0)\n",
            "Requirement already satisfied: httptools>=0.6.3 in /usr/local/lib/python3.10/dist-packages (from uvicorn[standard]>=0.18.3->chromadb!=0.5.10,!=0.5.11,!=0.5.12,!=0.5.4,!=0.5.5,!=0.5.7,!=0.5.9,<0.6.0,>=0.4.0->langchain-chroma) (0.6.4)\n",
            "Requirement already satisfied: uvloop!=0.15.0,!=0.15.1,>=0.14.0 in /usr/local/lib/python3.10/dist-packages (from uvicorn[standard]>=0.18.3->chromadb!=0.5.10,!=0.5.11,!=0.5.12,!=0.5.4,!=0.5.5,!=0.5.7,!=0.5.9,<0.6.0,>=0.4.0->langchain-chroma) (0.21.0)\n",
            "Requirement already satisfied: watchfiles>=0.13 in /usr/local/lib/python3.10/dist-packages (from uvicorn[standard]>=0.18.3->chromadb!=0.5.10,!=0.5.11,!=0.5.12,!=0.5.4,!=0.5.5,!=0.5.7,!=0.5.9,<0.6.0,>=0.4.0->langchain-chroma) (1.0.4)\n",
            "Requirement already satisfied: websockets>=10.4 in /usr/local/lib/python3.10/dist-packages (from uvicorn[standard]>=0.18.3->chromadb!=0.5.10,!=0.5.11,!=0.5.12,!=0.5.4,!=0.5.5,!=0.5.7,!=0.5.9,<0.6.0,>=0.4.0->langchain-chroma) (14.1)\n",
            "Requirement already satisfied: MarkupSafe>=2.0 in /usr/local/lib/python3.10/dist-packages (from jinja2->torch>=1.11.0->sentence-transformers) (3.0.2)\n",
            "Requirement already satisfied: cachetools<6.0,>=2.0.0 in /usr/local/lib/python3.10/dist-packages (from google-auth>=1.0.1->kubernetes>=28.1.0->chromadb!=0.5.10,!=0.5.11,!=0.5.12,!=0.5.4,!=0.5.5,!=0.5.7,!=0.5.9,<0.6.0,>=0.4.0->langchain-chroma) (5.5.0)\n",
            "Requirement already satisfied: pyasn1-modules>=0.2.1 in /usr/local/lib/python3.10/dist-packages (from google-auth>=1.0.1->kubernetes>=28.1.0->chromadb!=0.5.10,!=0.5.11,!=0.5.12,!=0.5.4,!=0.5.5,!=0.5.7,!=0.5.9,<0.6.0,>=0.4.0->langchain-chroma) (0.4.1)\n",
            "Requirement already satisfied: rsa<5,>=3.1.4 in /usr/local/lib/python3.10/dist-packages (from google-auth>=1.0.1->kubernetes>=28.1.0->chromadb!=0.5.10,!=0.5.11,!=0.5.12,!=0.5.4,!=0.5.5,!=0.5.7,!=0.5.9,<0.6.0,>=0.4.0->langchain-chroma) (4.9)\n",
            "Requirement already satisfied: zipp>=3.20 in /usr/local/lib/python3.10/dist-packages (from importlib-metadata<=8.5.0,>=6.0->opentelemetry-api>=1.2.0->chromadb!=0.5.10,!=0.5.11,!=0.5.12,!=0.5.4,!=0.5.5,!=0.5.7,!=0.5.9,<0.6.0,>=0.4.0->langchain-chroma) (3.21.0)\n",
            "Requirement already satisfied: mdurl~=0.1 in /usr/local/lib/python3.10/dist-packages (from markdown-it-py>=2.2.0->rich>=10.11.0->chromadb!=0.5.10,!=0.5.11,!=0.5.12,!=0.5.4,!=0.5.5,!=0.5.7,!=0.5.9,<0.6.0,>=0.4.0->langchain-chroma) (0.1.2)\n",
            "Requirement already satisfied: humanfriendly>=9.1 in /usr/local/lib/python3.10/dist-packages (from coloredlogs->onnxruntime>=1.14.1->chromadb!=0.5.10,!=0.5.11,!=0.5.12,!=0.5.4,!=0.5.5,!=0.5.7,!=0.5.9,<0.6.0,>=0.4.0->langchain-chroma) (10.0)\n",
            "Requirement already satisfied: pyasn1<0.7.0,>=0.4.6 in /usr/local/lib/python3.10/dist-packages (from pyasn1-modules>=0.2.1->google-auth>=1.0.1->kubernetes>=28.1.0->chromadb!=0.5.10,!=0.5.11,!=0.5.12,!=0.5.4,!=0.5.5,!=0.5.7,!=0.5.9,<0.6.0,>=0.4.0->langchain-chroma) (0.6.1)\n"
          ]
        }
      ],
      "source": [
        "!pip install langchain-community langchain-chroma langchain-openai PyGithub sentence-transformers langchain-huggingface transformers"
      ]
    },
    {
      "cell_type": "code",
      "source": [
        "!pip install transformers -U"
      ],
      "metadata": {
        "colab": {
          "base_uri": "https://localhost:8080/"
        },
        "id": "IOqx-jJd1KPx",
        "outputId": "ba51af20-19f2-45f4-cbc3-1848bc4be36e"
      },
      "execution_count": 38,
      "outputs": [
        {
          "output_type": "stream",
          "name": "stdout",
          "text": [
            "Requirement already satisfied: transformers in /usr/local/lib/python3.10/dist-packages (4.48.0)\n",
            "Requirement already satisfied: filelock in /usr/local/lib/python3.10/dist-packages (from transformers) (3.16.1)\n",
            "Requirement already satisfied: huggingface-hub<1.0,>=0.24.0 in /usr/local/lib/python3.10/dist-packages (from transformers) (0.27.0)\n",
            "Requirement already satisfied: numpy>=1.17 in /usr/local/lib/python3.10/dist-packages (from transformers) (1.26.4)\n",
            "Requirement already satisfied: packaging>=20.0 in /usr/local/lib/python3.10/dist-packages (from transformers) (24.2)\n",
            "Requirement already satisfied: pyyaml>=5.1 in /usr/local/lib/python3.10/dist-packages (from transformers) (6.0.2)\n",
            "Requirement already satisfied: regex!=2019.12.17 in /usr/local/lib/python3.10/dist-packages (from transformers) (2024.11.6)\n",
            "Requirement already satisfied: requests in /usr/local/lib/python3.10/dist-packages (from transformers) (2.32.3)\n",
            "Requirement already satisfied: tokenizers<0.22,>=0.21 in /usr/local/lib/python3.10/dist-packages (from transformers) (0.21.0)\n",
            "Requirement already satisfied: safetensors>=0.4.1 in /usr/local/lib/python3.10/dist-packages (from transformers) (0.4.5)\n",
            "Requirement already satisfied: tqdm>=4.27 in /usr/local/lib/python3.10/dist-packages (from transformers) (4.67.1)\n",
            "Requirement already satisfied: fsspec>=2023.5.0 in /usr/local/lib/python3.10/dist-packages (from huggingface-hub<1.0,>=0.24.0->transformers) (2024.10.0)\n",
            "Requirement already satisfied: typing-extensions>=3.7.4.3 in /usr/local/lib/python3.10/dist-packages (from huggingface-hub<1.0,>=0.24.0->transformers) (4.12.2)\n",
            "Requirement already satisfied: charset-normalizer<4,>=2 in /usr/local/lib/python3.10/dist-packages (from requests->transformers) (3.4.0)\n",
            "Requirement already satisfied: idna<4,>=2.5 in /usr/local/lib/python3.10/dist-packages (from requests->transformers) (3.10)\n",
            "Requirement already satisfied: urllib3<3,>=1.21.1 in /usr/local/lib/python3.10/dist-packages (from requests->transformers) (2.2.3)\n",
            "Requirement already satisfied: certifi>=2017.4.17 in /usr/local/lib/python3.10/dist-packages (from requests->transformers) (2024.12.14)\n"
          ]
        }
      ]
    },
    {
      "cell_type": "code",
      "source": [
        "!pip uninstall chromadb"
      ],
      "metadata": {
        "colab": {
          "base_uri": "https://localhost:8080/"
        },
        "id": "fZiqSJfR2BWm",
        "outputId": "20eec882-7824-4b9e-869d-8ae44542b138"
      },
      "execution_count": 37,
      "outputs": [
        {
          "output_type": "stream",
          "name": "stdout",
          "text": [
            "Found existing installation: chromadb 0.5.23\n",
            "Uninstalling chromadb-0.5.23:\n",
            "  Would remove:\n",
            "    /usr/local/bin/chroma\n",
            "    /usr/local/lib/python3.10/dist-packages/chromadb-0.5.23.dist-info/*\n",
            "    /usr/local/lib/python3.10/dist-packages/chromadb/*\n",
            "Proceed (Y/n)? Y\n",
            "  Successfully uninstalled chromadb-0.5.23\n"
          ]
        }
      ]
    },
    {
      "cell_type": "code",
      "source": [
        "from langchain import hub\n",
        "from langchain_chroma import Chroma\n",
        "from langchain_openai import ChatOpenAI\n",
        "from langchain_openai import OpenAIEmbeddings\n",
        "from langchain_community.document_loaders import WebBaseLoader\n",
        "from langchain_text_splitters import RecursiveCharacterTextSplitter"
      ],
      "metadata": {
        "colab": {
          "base_uri": "https://localhost:8080/"
        },
        "id": "lrlcWNMyI0HQ",
        "outputId": "811c1bfa-8c55-4364-8260-6cc1b2be5ef4"
      },
      "execution_count": 2,
      "outputs": [
        {
          "output_type": "stream",
          "name": "stderr",
          "text": [
            "WARNING:langchain_community.utils.user_agent:USER_AGENT environment variable not set, consider setting it to identify your requests.\n"
          ]
        }
      ]
    },
    {
      "cell_type": "markdown",
      "source": [
        "## [MY CODE] 환경 변수 설정\n",
        "\n",
        "### OpenAI\n",
        "\n",
        "ChatOpenAI는 OPENAI_API_KEY를 환경변수로만 받고 있어서, 환경변수에 지정\n",
        "\n",
        "관련 문서: [ChatOpenAI](https://python.langchain.com/docs/integrations/chat/openai/)\n",
        "\n",
        "### LANGCHAIN\n",
        "\n",
        "LANGCHAIN과 LANGSMITH 관련 환경변수 설정\n",
        "\n",
        "관련 문서: [LANGSMITH](https://docs.smith.langchain.com/), [LANGCHAIN](https://smith.langchain.com/o/464e449d-6cf3-4e7a-a47f-5b96b912650d?paginationState=%7B%22pageIndex%22:0,%22pageSize%22:5%7D)"
      ],
      "metadata": {
        "id": "0_WuwV4tfrms"
      }
    },
    {
      "cell_type": "code",
      "source": [
        "import os\n",
        "\n",
        "from google.colab import userdata\n",
        "import openai\n",
        "\n",
        "\n",
        "\n",
        "# openai API KEY\n",
        "openai_key = userdata.get('OPENAI_API_KEY')\n",
        "os.environ[\"OPENAI_API_KEY\"] = openai_key\n",
        "openai.api_key = openai_key\n",
        "\n",
        "# langsmith\n",
        "langsmith_key = userdata.get('LANGSMITH_KEY')\n",
        "os.environ[\"LANGSMITH_TRACING\"] = \"true\"\n",
        "os.environ[\"LANGCHAIN_TRACING_V2\"] = \"true\"\n",
        "os.environ[\"LANGCHAIN_API_KEY\"] = langsmith_key\n",
        "os.environ[\"LANGSMITH_API_KEY\"] = langsmith_key\n",
        "os.environ[\"LANGSMITH_ENDPOINT\"] = \"https://api.smith.langchain.com\"\n",
        "os.environ[\"LANGSMITH_PROJECT\"] = \"sparta_w5_1\"\n",
        "\n",
        "\n",
        "llm = ChatOpenAI(model=\"gpt-4o-mini\")"
      ],
      "metadata": {
        "id": "gdjtGqsgI2Ub"
      },
      "execution_count": 3,
      "outputs": []
    },
    {
      "cell_type": "markdown",
      "source": [
        "## [MY CODE] Github repository 가져오기"
      ],
      "metadata": {
        "id": "k0rrCGlHzR3h"
      }
    },
    {
      "cell_type": "code",
      "source": [
        "from github import Github\n",
        "from github import Auth\n",
        "\n",
        "# using an access token\n",
        "git_access_token = userdata.get('GIT_TOKEN')\n",
        "auth = Auth.Token(git_access_token)\n",
        "\n",
        "# Public Web Github\n",
        "g = Github(auth=auth)\n",
        "\n",
        "# Repository 가져오기\n",
        "repo_url = \"https://github.com/teacherSsamko/lion_django_app\"\n",
        "repo_name = \"/\".join(repo_url.split(\"/\")[-2:]) # \"PyGithub/PyGithub\"\n",
        "print(repo_name)\n",
        "repo = g.get_repo(repo_name)\n",
        "\n",
        "# 리포지토리의 모든 파일 가져오기\n",
        "contents = repo.get_contents(\"\")\n",
        "files = []\n",
        "\n",
        "while contents:\n",
        "    file_content = contents.pop(0)\n",
        "    if file_content.type == \"dir\":\n",
        "        contents.extend(repo.get_contents(file_content.path))\n",
        "    else:\n",
        "        files.append(file_content)\n",
        "\n",
        "# 각 파일 내용 읽기\n",
        "code_files = {file.path: file.decoded_content.decode() for file in files if file.path.endswith(('.py', '.js', '.ts', '.java', '.c', '.cpp'))}"
      ],
      "metadata": {
        "colab": {
          "base_uri": "https://localhost:8080/"
        },
        "id": "5lYmf0JczJsc",
        "outputId": "fd688ea0-50eb-4073-fbbe-38740aeea171"
      },
      "execution_count": 4,
      "outputs": [
        {
          "output_type": "stream",
          "name": "stdout",
          "text": [
            "teacherSsamko/lion_django_app\n"
          ]
        }
      ]
    },
    {
      "cell_type": "markdown",
      "source": [
        "## [MY CODE] 코드 내용을 RAG용 벡터로 변환\n",
        "\n",
        "RAG는 코드를 세그먼트로 나누고 각 세그먼트를 벡터화하여 저장합니다. 이를 위해 OpenAI의 text-embedding-ada-002 모델을 사용할 수 있습니다.\n",
        "\n",
        "\n",
        "1.\t코드 세그먼트화\n",
        "\n",
        "  파일 내용을 일정 길이로 나누어 벡터화합니다.\n",
        "2.\t벡터 저장\n",
        "\n",
        "  벡터를 Chroma에 저장합니다.\n",
        "  > 추후 production 단계에서는 pinecone으로 업그레이드"
      ],
      "metadata": {
        "id": "tE7DMxNnzakp"
      }
    },
    {
      "cell_type": "code",
      "source": [
        "from langchain_chroma import Chroma\n",
        "from langchain_openai import OpenAIEmbeddings\n",
        "from langchain.schema import Document\n",
        "\n",
        "# Chroma 데이터베이스 설정 및 초기화\n",
        "embeddings = OpenAIEmbeddings()\n",
        "vectorstore = Chroma(\n",
        "    persist_directory=\"./chroma_db\",\n",
        "    embedding_function=embeddings,\n",
        "    collection_name=\"code_segments\"\n",
        ")\n",
        "\n",
        "# 데이터 업로드\n",
        "def add_data_to_chroma(segments, metadata):\n",
        "    # LangChain의 Document 형식으로 변환\n",
        "    documents = [\n",
        "        Document(\n",
        "            page_content=segment,\n",
        "            metadata=meta\n",
        "        ) for segment, meta in zip(segments, metadata)\n",
        "    ]\n",
        "\n",
        "    # vectorstore에 documents 추가\n",
        "    vectorstore.add_documents(documents)\n",
        "\n",
        "for file_path, code in code_files.items():\n",
        "    # Split the code into segments (you might want to use a more sophisticated approach)\n",
        "    segments = code.split('\\n')\n",
        "\n",
        "    # Create metadata for each segment\n",
        "    metadata = [{'file_path': file_path, 'line_number': i} for i in range(len(segments))]\n",
        "\n",
        "    # Add the segments and metadata to the vectorstore\n",
        "    add_data_to_chroma(segments, metadata)"
      ],
      "metadata": {
        "id": "QCTG9u6A0MR0"
      },
      "execution_count": 5,
      "outputs": []
    },
    {
      "cell_type": "markdown",
      "source": [
        "## [MY CODE] RAG 기반 검색"
      ],
      "metadata": {
        "id": "l9TubGsOz5YA"
      }
    },
    {
      "cell_type": "code",
      "source": [
        "# 쿼리를 통해 관련 벡터 검색\n",
        "def search_relevant_segments(query: str, top_k: int = 5):\n",
        "    # similarity_search 메서드를 사용하여 관련 문서 검색\n",
        "    results = vectorstore.similarity_search(\n",
        "        query=query,\n",
        "        k=top_k\n",
        "    )\n",
        "    # 검색된 문서의 내용 반환\n",
        "    return [doc.page_content for doc in results]\n",
        "\n",
        "# 결과 출력\n",
        "query = \"잠재적인 버그, 스타일 문제, 성능 문제, 보안 취약점 등 특정 코드 블록이나 함수에서 개선할 수 있는 부분\"\n",
        "relevant_segments = search_relevant_segments(query)\n",
        "relevant_segments"
      ],
      "metadata": {
        "colab": {
          "base_uri": "https://localhost:8080/"
        },
        "id": "YuxQd9eS0TJ-",
        "outputId": "18b04533-c76d-4b68-e16c-dadcd539303b"
      },
      "execution_count": 26,
      "outputs": [
        {
          "output_type": "execute_result",
          "data": {
            "text/plain": [
              "[')', ']', ']', ']', ']']"
            ]
          },
          "metadata": {},
          "execution_count": 26
        }
      ]
    },
    {
      "cell_type": "markdown",
      "source": [
        "## [MY CODE] OpenAI로 코드 리뷰 생성\n",
        "\n",
        "검색된 세그먼트를 기반으로 GPT 모델을 통해 리뷰를 생성합니다."
      ],
      "metadata": {
        "id": "aCmP-No20Bdj"
      }
    },
    {
      "cell_type": "code",
      "source": [
        "from langchain.prompts import ChatPromptTemplate\n",
        "from langchain_openai import ChatOpenAI\n",
        "\n",
        "def generate_code_review(relevant_segments):\n",
        "    # 프롬프트 템플릿 생성\n",
        "    prompt = ChatPromptTemplate.from_template(\"\"\"\n",
        "    You are a code reviewer. Here are some code segments:\n",
        "    {segments}\n",
        "\n",
        "    Please provide:\n",
        "    1. What was done well.\n",
        "    2. What can be improved.\n",
        "    \"\"\")\n",
        "\n",
        "    # LLM 모델 초기화\n",
        "    llm = ChatOpenAI(model=\"gpt-4\")\n",
        "\n",
        "    # 체인 실행\n",
        "    chain = prompt | llm\n",
        "\n",
        "    # 리뷰 생성\n",
        "    response = chain.invoke({\n",
        "        \"segments\": \"\\n\".join(relevant_segments)\n",
        "    })\n",
        "\n",
        "    return response.content\n",
        "\n",
        "# 리뷰 생성 및 출력\n",
        "review = generate_code_review(relevant_segments)\n",
        "print(review)"
      ],
      "metadata": {
        "colab": {
          "base_uri": "https://localhost:8080/"
        },
        "id": "rInNMy2U0A9l",
        "outputId": "61eff8ba-5f09-4b9c-f497-da25d546b256"
      },
      "execution_count": 16,
      "outputs": [
        {
          "output_type": "stream",
          "name": "stdout",
          "text": [
            "This code segment provided is unclear and seems incomplete, and multiple closing brackets are seemingly not matched with opening brackets. Thus, it's challenging to provide detailed feedback. However, based on the current context, here are some simple comments:\n",
            "\n",
            "1. What was done well:\n",
            "\n",
            "It is difficult to pinpoint what was done well as the code provided is incomplete and without context. \n",
            "\n",
            "2. What can be improved:\n",
            "\n",
            "a) It's clear that the code is not syntactically valid, as there are closing brackets without corresponding opening ones. First priority is to fix the code syntax.\n",
            "\n",
            "b) Variables, Objects, or Data which are supposed to be inside the braces are missing. This needs to be corrected.\n",
            "\n",
            "c) If this broken code implies an arrangement of web addresses, then consider storing them in a data structure such as a list or a dictionary (if a mapping is required).\n",
            "\n",
            "d) Leaving commented out code can make it less readable or confusing. Evaluate if the commented URL is necessary or else remove or provide comments regarding why it is commented out.\n",
            "\n",
            "e) Add useful comments that explain what the code, or segment of code, is doing. Comments should give enough information on the method, parameters, returns, usage, and behaviors.\n",
            "\n",
            "f) Code should follow the appropriate formatting and style guide depending on the programming language which is used. \n",
            "\n",
            "g) It would be helpful to add error handling mechanisms to ensure the code is robust and can handle different situations. \n",
            "\n",
            "Remember that a well-structured, clean, and clear code is easier to understand and maintain.\n"
          ]
        }
      ]
    },
    {
      "cell_type": "markdown",
      "source": [
        "## [LOG] Code가 제대로 입력되지 않은것으로 보임"
      ],
      "metadata": {
        "id": "rVwTxRnSu7So"
      }
    },
    {
      "cell_type": "code",
      "source": [
        "relevant_segments"
      ],
      "metadata": {
        "colab": {
          "base_uri": "https://localhost:8080/"
        },
        "id": "AKZlViqaufaj",
        "outputId": "e4dd93d7-f81b-4849-f67c-5e18071387e9"
      },
      "execution_count": 17,
      "outputs": [
        {
          "output_type": "execute_result",
          "data": {
            "text/plain": [
              "[')',\n",
              " '#     \"http://lion-lb-staging-18975820-e3aa639c372a.kr.lb.naverncp.com\",',\n",
              " ']',\n",
              " ']',\n",
              " ']']"
            ]
          },
          "metadata": {},
          "execution_count": 17
        }
      ]
    },
    {
      "cell_type": "markdown",
      "source": [
        "## [LOG] segment가 이상하게 출력되고 있음\n"
      ],
      "metadata": {
        "id": "e9rIgqu5vCa0"
      }
    },
    {
      "cell_type": "code",
      "source": [
        "code_files"
      ],
      "metadata": {
        "colab": {
          "base_uri": "https://localhost:8080/"
        },
        "collapsed": true,
        "id": "gekxveskv1F7",
        "outputId": "cd438ad1-da3a-4dca-902e-479774334de0"
      },
      "execution_count": 19,
      "outputs": [
        {
          "output_type": "execute_result",
          "data": {
            "text/plain": [
              "{'lion_app/manage.py': '#!/usr/bin/env python\\n\"\"\"Django\\'s command-line utility for administrative tasks.\"\"\"\\nimport os\\nimport sys\\n\\n\\ndef main():\\n    \"\"\"Run administrative tasks.\"\"\"\\n    os.environ.setdefault(\"DJANGO_SETTINGS_MODULE\", \"lion_app.settings.local\")\\n    try:\\n        from django.core.management import execute_from_command_line\\n    except ImportError as exc:\\n        raise ImportError(\\n            \"Couldn\\'t import Django. Are you sure it\\'s installed and \"\\n            \"available on your PYTHONPATH environment variable? Did you \"\\n            \"forget to activate a virtual environment?\"\\n        ) from exc\\n    execute_from_command_line(sys.argv)\\n\\n\\nif __name__ == \"__main__\":\\n    main()\\n',\n",
              " 'monitoring/api_test.py': 'from abc import ABC, abstractmethod\\nimport time\\n\\nimport requests\\nfrom faker import Faker\\n\\n\\nclass APIHandler(ABC):\\n    def __init__(self, model: str, host: str = \"http://localhost:8000\"):\\n        self.root_url = \"/forum/topic\"\\n        self.model = model\\n        self.host = host\\n        self.access, self.refresh = self._login()\\n\\n    def _get_url(self, detail=False, pk: int = None) -> str:\\n        if detail:\\n            return f\"{self.host}{self.root_url}/{pk}/\"\\n        return f\"{self.host}{self.root_url}/\"\\n\\n    @abstractmethod\\n    def _generate_data(self, fk: int = None) -> dict:\\n        \"\"\"\\n        generate data for POST, PUT\\n        \"\"\"\\n        ...\\n\\n    def _get_pk(self, model: str = None) -> int:\\n        res = self.list(model)\\n\\n        return res.json()[0].get(\"id\")\\n\\n    def _login(self) -> tuple:\\n        url = f\"{self.host}/api/token/\"\\n        data = {\\n            \"username\": \"lion\",\\n            \"password\": \"lion!Q@W#E$R\",\\n        }\\n        res = requests.post(url, data=data)\\n        print(type(res))\\n        print(res)\\n        res_data = res.json()\\n        return res_data.get(\"access\"), res_data.get(\"refresh\")\\n\\n    def _api_call(self, method: str, url: str, data: dict = None):\\n        request = {\\n            \"url\": url,\\n            \"data\": data,\\n            \"headers\": {\"Authorization\": f\"Bearer {self.access}\"},\\n        }\\n        res = getattr(requests, method)(**request)\\n        if res.status_code >= 400:\\n            print(res.json())\\n        return res\\n\\n    @abstractmethod\\n    def create(self):\\n        ...\\n\\n    @abstractmethod\\n    def list(self, model: str = None):\\n        ...\\n\\n    @abstractmethod\\n    def update(self):\\n        ...\\n\\n    def destroy(self):\\n        pk = self._get_pk()\\n        self._api_call(\"delete\", self._get_url(detail=True, pk=pk))\\n\\n    def detail(self):\\n        pk = self._get_pk()\\n        self._api_call(\"get\", self._get_url(detail=True, pk=pk))\\n\\n\\nclass TopicAPIHandler(APIHandler):\\n    def __init__(self, host: str = \"http://localhost:8000\"):\\n        super().__init__(\"topic\", host)\\n        self.root_url = \"/forum/topic\"\\n\\n    def _generate_data(self, fk: int = None) -> dict:\\n        fake = Faker()\\n        data = {\\n            \"name\": fake.text(max_nb_chars=10),\\n            \"is_private\": False,\\n        }\\n        return data\\n\\n    def create(self):\\n        self._api_call(method=\"post\", url=self._get_url(), data=self._generate_data())\\n\\n    def list(self, model: str = None):\\n        res = self._api_call(\"get\", self._get_url())\\n        return res\\n\\n    def update(self):\\n        pk = self._get_pk()\\n        self._api_call(\\n            \"put\", self._get_url(detail=True, pk=pk), data=self._generate_data()\\n        )\\n        return\\n\\n\\nclass PostAPIHandler(APIHandler):\\n    def __init__(self, host: str = \"http://localhost:8000\"):\\n        super().__init__(\"post\", host)\\n        self.root_url = \"/forum/post\"\\n\\n    def _generate_data(self, fk: int = None) -> dict:\\n        fake = Faker()\\n        data = {\\n            \"topic\": fk,\\n            \"title\": fake.text(max_nb_chars=20),\\n            \"content\": fake.text(max_nb_chars=100),\\n        }\\n        return data\\n\\n    def _get_pk(self, model: str = None) -> int:\\n        res = self._api_call(\"get\", f\"{self.host}/forum/topic/\")\\n        return res.json()[0].get(\"id\")\\n\\n    def create(self):\\n        fk = self._get_pk(\"topic\")\\n        self._api_call(method=\"post\", url=self._get_url(), data=self._generate_data(fk))\\n        return\\n\\n    def list(self, model: str = None):\\n        res = self._api_call(\\n            \"get\", f\"{self.host}/forum/topic/{self._get_pk(model=\\'topic\\')}/posts\"\\n        )\\n\\n    def update(self):\\n        pk = self._get_pk()\\n        fk = self._get_pk(\"topic\")\\n        self._api_call(\\n            \"put\", self._get_url(detail=True, pk=pk), data=self._generate_data(fk)\\n        )\\n\\n\\nif __name__ == \"__main__\":\\n    topic_handler = TopicAPIHandler()\\n    post_handler = PostAPIHandler()\\n\\n    i = 0\\n\\n    while True:\\n        topic_handler.create()\\n        post_handler.create()\\n        topic_handler.update()\\n        post_handler.detail()\\n        if i % 30 == 0:\\n            post_handler.destroy()\\n        i += 1\\n        time.sleep(1)\\n',\n",
              " 'lion_app/Forum/__init__.py': '',\n",
              " 'lion_app/Forum/admin.py': 'from django.contrib import admin\\n\\nfrom .models import Topic, Post, TopicGroupUser\\n\\nadmin.site.register(Topic)\\nadmin.site.register(Post)\\n\\n\\n@admin.register(TopicGroupUser)\\nclass TopicGroupUserAdmin(admin.ModelAdmin):\\n    list_display = (\"topic\", \"group\", \"user\")\\n',\n",
              " 'lion_app/Forum/apps.py': 'from django.apps import AppConfig\\n\\n\\nclass ForumConfig(AppConfig):\\n    default_auto_field = \"django.db.models.BigAutoField\"\\n    name = \"Forum\"\\n',\n",
              " 'lion_app/Forum/models.py': 'from django.db import models\\nfrom django.contrib.auth.models import User\\nfrom django_prometheus.models import ExportModelOperationsMixin\\n\\n\\nclass Topic(ExportModelOperationsMixin(\"topic\"), models.Model):\\n    name = models.TextField(max_length=128, unique=True)\\n    is_private = models.BooleanField(default=False)\\n    owner = models.ForeignKey(User, on_delete=models.PROTECT)\\n    created_at = models.DateTimeField(auto_now_add=True)\\n    updated_at = models.DateTimeField(auto_now=True)\\n    posts: models.QuerySet[\"Post\"]\\n    members: models.QuerySet[\"TopicGroupUser\"]\\n\\n    def __str__(self):\\n        return self.name\\n\\n    def can_be_access_by(self, user: User):\\n        if (\\n            not self.is_private\\n            or self.owner == user\\n            or self.members.filter(user=user).exists()\\n        ):\\n            return True\\n        return False\\n\\n\\nclass Post(ExportModelOperationsMixin(\"post\"), models.Model):\\n    topic = models.ForeignKey(Topic, on_delete=models.CASCADE, related_name=\"posts\")\\n    title = models.TextField(max_length=200)\\n    content = models.TextField()\\n    image_url = models.URLField(null=True, blank=True)\\n    owner = models.ForeignKey(User, on_delete=models.CASCADE)\\n    created_at = models.DateTimeField(auto_now_add=True)\\n    updated_at = models.DateTimeField(auto_now=True)\\n\\n    def __str__(self):\\n        return self.title\\n\\n\\nclass TopicGroupUser(ExportModelOperationsMixin(\"topicgroupuser\"), models.Model):\\n    class GroupChoices(models.IntegerChoices):\\n        common = 0\\n        admin = 1\\n\\n    topic = models.ForeignKey(Topic, on_delete=models.CASCADE, related_name=\"members\")\\n    group = models.IntegerField(default=0, choices=GroupChoices.choices)\\n    user = models.ForeignKey(User, on_delete=models.CASCADE)\\n\\n    def __str__(self):\\n        return f\"{self.topic} | {self.group} | {self.user}\"\\n',\n",
              " 'lion_app/Forum/serializers.py': 'from rest_framework import serializers\\n\\nfrom .models import Topic, Post\\n\\n\\nclass PostSerializer(serializers.ModelSerializer):\\n    class Meta:\\n        model = Post\\n        fields = \"__all__\"\\n        read_only_fields = (\\n            \"id\",\\n            \"owner\",\\n            \"created_at\",\\n            \"updated_at\",\\n        )\\n\\n\\nclass PostUploadSerializer(serializers.ModelSerializer):\\n    class Meta:\\n        model = Post\\n        fields = (\\n            \"id\",\\n            \"topic\",\\n            \"title\",\\n            \"content\",\\n            \"image\",\\n            \"owner\",\\n            \"created_at\",\\n            \"updated_at\",\\n        )\\n        read_only_fields = (\\n            \"id\",\\n            \"owner\",\\n            \"created_at\",\\n            \"updated_at\",\\n        )\\n\\n    image = serializers.ImageField(required=False)\\n\\n\\nclass TopicSerializer(serializers.ModelSerializer):\\n    class Meta:\\n        model = Topic\\n        fields = (\\n            \"id\",\\n            \"name\",\\n            \"is_private\",\\n            \"owner\",\\n            \"created_at\",\\n            \"updated_at\",\\n            \"posts\",\\n        )\\n        read_only_fields = (\\n            \"id\",\\n            \"created_at\",\\n            \"updated_at\",\\n            \"owner\",\\n        )\\n\\n    posts = serializers.SerializerMethodField()\\n\\n    def get_posts(self, obj: Topic):\\n        posts = obj.posts.all()\\n        return PostSerializer(posts, many=True).data\\n',\n",
              " 'lion_app/Forum/tests.py': 'import json\\nimport tempfile\\nfrom unittest.mock import patch, MagicMock\\n\\nfrom django.contrib.auth.models import User\\nfrom django.urls import reverse\\nfrom django.http import HttpResponse\\nfrom rest_framework.test import APITestCase\\nfrom rest_framework import status\\nfrom rest_framework.test import APIClient\\n\\nfrom .models import Topic, Post, TopicGroupUser\\n\\n\\nclass PostTest(APITestCase):\\n    def __init__(self, methodName: str = \"runTest\") -> None:\\n        super().__init__(methodName)\\n        self.client = APIClient()\\n\\n    @classmethod\\n    def setUpTestData(cls):\\n        cls.superuser = User.objects.create_superuser(\"supueruser\")\\n        cls.private_topic = Topic.objects.create(\\n            name=\"private topic\",\\n            is_private=True,\\n            owner=cls.superuser,\\n        )\\n        cls.public_topic = Topic.objects.create(\\n            name=\"public topic\",\\n            is_private=False,\\n            owner=cls.superuser,\\n        )\\n\\n        # Posts on private topic\\n        for i in range(5):\\n            Post.objects.create(\\n                topic=cls.private_topic,\\n                title=f\"{i+1}\",\\n                content=f\"{i+1}\",\\n                owner=cls.superuser,\\n            )\\n        # Posts on public topic\\n        for i in range(5):\\n            Post.objects.create(\\n                topic=cls.public_topic,\\n                title=f\"{i+1}\",\\n                content=f\"{i+1}\",\\n                owner=cls.superuser,\\n            )\\n\\n        cls.authorized_user = User.objects.create_user(\"authorized\")\\n        cls.unauthorized_user = User.objects.create_user(\"unauthorized\")\\n        TopicGroupUser.objects.create(\\n            topic=cls.private_topic,\\n            group=TopicGroupUser.GroupChoices.common,\\n            user=cls.authorized_user,\\n        )\\n\\n    def test_write_permission_on_private_topic(self):\\n        client = APIClient()\\n        data = {\\n            \"title\": \"test\",\\n            \"content\": \"test\",\\n            \"topic\": self.private_topic.pk,\\n        }\\n\\n        # when unauthorized user tries to write a post on Topic => fail. 401\\n        client.force_authenticate(user=self.unauthorized_user)\\n        res = self.client.post(reverse(\"post-list\"), data=data)\\n        self.assertEqual(res.status_code, status.HTTP_401_UNAUTHORIZED)\\n\\n        # when authorized user tries to write a post on Topic => success. 201\\n        self.client.force_authenticate(self.authorized_user)\\n        res: HttpResponse = self.client.post(reverse(\"post-list\"), data=data)\\n        self.assertEqual(res.status_code, status.HTTP_201_CREATED)\\n        res_data = json.loads(res.content)\\n        Post.objects.get(pk=res_data[\"id\"])\\n\\n        # Admin => 201\\n        admin = User.objects.create_user(\"admin\")\\n        TopicGroupUser.objects.create(\\n            topic=self.private_topic,\\n            group=TopicGroupUser.GroupChoices.admin,\\n            user=admin,\\n        )\\n        self.client.force_authenticate(admin)\\n        res = self.client.post(reverse(\"post-list\"), data=data)\\n        self.assertEqual(res.status_code, status.HTTP_201_CREATED)\\n\\n        # Owner => 201\\n        self.client.force_authenticate(self.superuser)\\n        res = self.client.post(reverse(\"post-list\"), data=data)\\n        self.assertEqual(res.status_code, status.HTTP_201_CREATED)\\n\\n    def test_read_permission_on_topics(self):\\n        # read public topic\\n        # unauthorized user requests => 200. public topic\\'s posts\\n        self.client.force_authenticate(self.unauthorized_user)\\n        res = self.client.get(reverse(\"topic-posts\", args=[self.public_topic.pk]))\\n        self.assertEqual(res.status_code, status.HTTP_200_OK)\\n        data = json.loads(res.content)\\n        posts_n = Post.objects.filter(topic=self.public_topic).count()\\n        self.assertEqual(len(data), posts_n)\\n\\n        # read private topic\\n        # unauthorized user requests => 401.\\n        self.client.force_authenticate(self.unauthorized_user)\\n        res = self.client.get(reverse(\"topic-posts\", args=[self.private_topic.pk]))\\n        self.assertEqual(res.status_code, status.HTTP_401_UNAUTHORIZED)\\n        # authorized user requests => 200. private topic\\'s posts\\n        self.client.force_authenticate(self.authorized_user)\\n        res = self.client.get(reverse(\"topic-posts\", args=[self.private_topic.pk]))\\n        self.assertEqual(res.status_code, status.HTTP_200_OK)\\n        data = json.loads(res.content)\\n        posts_n = Post.objects.filter(topic=self.private_topic).count()\\n        self.assertEqual(len(data), posts_n)\\n\\n    def test_read_permission_on_posts(self):\\n        # read public topic\\'s post\\n        # unauthorized user requests => 200.\\n        self.client.force_authenticate(self.unauthorized_user)\\n        public_post = Post.objects.filter(topic=self.public_topic).first()\\n        res = self.client.get(reverse(\"post-detail\", args=[public_post.pk]))\\n        self.assertEqual(res.status_code, status.HTTP_200_OK)\\n\\n        # read private topic\\'s post\\n        # unauthorized user requests => 401.\\n        self.client.force_authenticate(self.unauthorized_user)\\n        private_post = Post.objects.filter(topic=self.private_topic).first()\\n        res = self.client.get(reverse(\"post-detail\", args=[private_post.pk]))\\n        self.assertEqual(res.status_code, status.HTTP_401_UNAUTHORIZED)\\n        # authorized user requests => 200.\\n        self.client.force_authenticate(self.authorized_user)\\n        private_post = Post.objects.filter(topic=self.private_topic).first()\\n        res = self.client.get(reverse(\"post-detail\", args=[private_post.pk]))\\n        self.assertEqual(res.status_code, status.HTTP_200_OK)\\n\\n    @patch(\"Forum.views.boto3.client\")\\n    def test_post_with_or_without_image(self, s3_client: MagicMock):\\n        # mock s3\\n        s3 = MagicMock()\\n        s3_client.return_value = s3\\n        s3.upload_fileobj.return_value = None\\n        s3.put_object_acl.return_value = None\\n\\n        # without image => success.\\n        data = {\\n            \"title\": \"test\",\\n            \"content\": \"test\",\\n            \"topic\": self.public_topic.pk,\\n        }\\n        self.client.force_authenticate(self.authorized_user)\\n        res = self.client.post(reverse(\"post-list\"), data=data)\\n        self.assertEqual(res.status_code, status.HTTP_201_CREATED)\\n\\n        # with image => success.\\n        with tempfile.NamedTemporaryFile(suffix=\".jpg\") as tmpfile:\\n            data[\"image\"] = tmpfile\\n            res = self.client.post(reverse(\"post-list\"), data=data)\\n            self.assertEqual(res.status_code, status.HTTP_201_CREATED)\\n            res_data = json.loads(res.content)\\n            self.assertTrue(res_data[\"image_url\"].startswith(\"https://\"))\\n\\n        s3.upload_fileobj.assert_called_once()\\n        s3.put_object_acl.assert_called_once()\\n\\n    def test_delete_permission(self):\\n        # setup\\n        common_user = User.objects.create_user(\"common1\")\\n        admin_user = User.objects.create_user(\"admin1\")\\n        post1 = Post.objects.create(\\n            topic=self.private_topic,\\n            title=\"private\",\\n            content=\"private\",\\n            owner=common_user,\\n        )\\n        post2 = Post.objects.create(\\n            topic=self.private_topic,\\n            title=\"post2\",\\n            content=\"private\",\\n            owner=common_user,\\n        )\\n        post3 = Post.objects.create(\\n            topic=self.private_topic,\\n            title=\"post3\",\\n            content=\"private\",\\n            owner=common_user,\\n        )\\n        TopicGroupUser.objects.create(\\n            topic=self.private_topic,\\n            group=TopicGroupUser.GroupChoices.common,\\n            user=common_user,\\n        )\\n        TopicGroupUser.objects.create(\\n            topic=self.private_topic,\\n            group=TopicGroupUser.GroupChoices.admin,\\n            user=admin_user,\\n        )\\n        # topic owner can delete any post\\n        topic_owner = self.superuser\\n        self.client.force_authenticate(topic_owner)\\n        res = self.client.delete(reverse(\"post-detail\", args=[post1.pk]))\\n        self.assertEqual(res.status_code, status.HTTP_204_NO_CONTENT)\\n        # admin can delete any post\\n        self.client.force_authenticate(admin_user)\\n        res = self.client.delete(reverse(\"post-detail\", args=[post2.pk]))\\n        self.assertEqual(res.status_code, status.HTTP_204_NO_CONTENT)\\n        # common can delete only their posts\\n        ## post created by common -> success\\n        self.client.force_authenticate(common_user)\\n        res = self.client.delete(reverse(\"post-detail\", args=[post3.pk]))\\n        self.assertEqual(res.status_code, status.HTTP_204_NO_CONTENT)\\n        ## another post created by another common user -> fail\\n        another_common_user = User.objects.create_user(\"another\")\\n        another_post = Post.objects.create(\\n            topic=self.private_topic,\\n            title=\"another\",\\n            content=\"another\",\\n            owner=another_common_user,\\n        )\\n        self.client.force_authenticate(common_user)\\n        res = self.client.delete(reverse(\"post-detail\", args=[another_post.pk]))\\n        self.assertEqual(res.status_code, status.HTTP_401_UNAUTHORIZED)\\n        # unauthorized user can\\'t delete any post\\n        ## another post created by another common user -> fail\\n        self.client.force_authenticate(self.unauthorized_user)\\n        res = self.client.delete(reverse(\"post-detail\", args=[another_post.pk]))\\n        self.assertEqual(res.status_code, status.HTTP_401_UNAUTHORIZED)\\n',\n",
              " 'lion_app/Forum/urls.py': 'from rest_framework.routers import DefaultRouter\\n\\nfrom . import views\\n\\n\\nrouter = DefaultRouter()\\nrouter.register(\"topic\", views.TopicViewSet, basename=\"topic\")\\nrouter.register(\"post\", views.PostViewSet, basename=\"post\")\\n',\n",
              " 'lion_app/Forum/views.py': 'import uuid\\n\\nimport boto3\\nfrom django.core.files.base import File\\nfrom django.shortcuts import get_object_or_404\\nfrom django.conf import settings\\nfrom drf_spectacular.utils import extend_schema\\nfrom rest_framework import viewsets, status\\nfrom rest_framework.decorators import action\\nfrom rest_framework.request import Request\\nfrom rest_framework.response import Response\\n\\nfrom .models import Topic, Post, TopicGroupUser\\nfrom .serializers import TopicSerializer, PostSerializer, PostUploadSerializer\\n\\n\\n@extend_schema(tags=[\"Topic\"])\\nclass TopicViewSet(viewsets.ModelViewSet):\\n    queryset = Topic.objects.all()\\n    serializer_class = TopicSerializer\\n\\n    @extend_schema(summary=\"새 토픽 생성\")\\n    def create(self, request: Request, *args, **kwargs):\\n        serializer = TopicSerializer(data=request.data)\\n        if serializer.is_valid():\\n            data = serializer.validated_data\\n            data[\"owner\"] = request.user\\n            res: Topic = serializer.create(data)\\n            return Response(\\n                status=status.HTTP_201_CREATED, data=TopicSerializer(res).data\\n            )\\n        else:\\n            return Response(status=status.HTTP_400_BAD_REQUEST, data=serializer.errors)\\n\\n    @action(detail=True, methods=[\"get\"], url_name=\"posts\")\\n    def posts(self, request: Request, *args, **kwargs):\\n        topic: Topic = self.get_object()\\n        user = request.user\\n\\n        if not topic.can_be_access_by(user):\\n            return Response(\\n                status=status.HTTP_401_UNAUTHORIZED,\\n                data=\"This user is not allowed to read this topic\",\\n            )\\n\\n        posts = topic.posts\\n        serializer = PostSerializer(posts, many=True)\\n\\n        return Response(data=serializer.data)\\n\\n\\n@extend_schema(tags=[\"Post\"])\\nclass PostViewSet(viewsets.ModelViewSet):\\n    queryset = Post.objects.all()\\n    serializer_class = PostSerializer\\n\\n    def get_serializer_class(self):\\n        if self.action == \"create\":\\n            return PostUploadSerializer\\n        return super().get_serializer_class()\\n\\n    @extend_schema(deprecated=True)\\n    def list(self, request, *args, **kwargs):\\n        return Response(status=status.HTTP_400_BAD_REQUEST, data=\"Deprecated API\")\\n\\n    def create(self, request: Request, *args, **kwargs):\\n        user = request.user\\n        data = request.data\\n        topic_id = data.get(\"topic\")\\n        topic = get_object_or_404(Topic, id=topic_id)\\n\\n        if not topic.can_be_access_by(user):\\n            return Response(\\n                status=status.HTTP_401_UNAUTHORIZED,\\n                data=\"This user is not allowed to write a post on this topic\",\\n            )\\n\\n        if image := request.data.get(\"image\"):\\n            image: File\\n            endpoint_url = \"https://kr.object.ncloudstorage.com\"\\n            access_key = settings.NCP_ACCESS_KEY\\n            secret_key = settings.NCP_SECRET_KEY\\n            bucket_name = \"post-image-es\"\\n\\n            s3 = boto3.client(\\n                \"s3\",\\n                endpoint_url=endpoint_url,\\n                aws_access_key_id=access_key,\\n                aws_secret_access_key=secret_key,\\n            )\\n            image_id = str(uuid.uuid4())\\n            ext = image.name.split(\".\")[-1]\\n            image_filename = f\"{image_id}.{ext}\"\\n            s3.upload_fileobj(image.file, bucket_name, image_filename)\\n            s3.put_object_acl(\\n                ACL=\"public-read\",\\n                Bucket=bucket_name,\\n                Key=image_filename,\\n            )\\n            image_url = f\"{endpoint_url}/{bucket_name}/{image_filename}\"\\n\\n        serializer = PostSerializer(data=request.data)\\n        if serializer.is_valid():\\n            data = serializer.validated_data\\n            data[\"owner\"] = user\\n            data[\"image_url\"] = image_url if image else None\\n            res: Post = serializer.create(data)\\n            return Response(\\n                status=status.HTTP_201_CREATED, data=PostSerializer(res).data\\n            )\\n        else:\\n            return Response(status=status.HTTP_400_BAD_REQUEST, data=serializer.errors)\\n\\n    def retrieve(self, request: Request, *args, **kwargs):\\n        user = request.user\\n        post: Post = self.get_object()\\n        topic = post.topic\\n\\n        if not topic.can_be_access_by(user):\\n            return Response(\\n                status=status.HTTP_401_UNAUTHORIZED,\\n                data=\"This user is not allowed to read this post\",\\n            )\\n\\n        return super().retrieve(request, *args, **kwargs)\\n\\n    def destroy(self, request, *args, **kwargs):\\n        post: Post = self.get_object()\\n        topic: Topic = post.topic\\n        if (\\n            topic.owner == request.user\\n            or post.owner == request.user\\n            or TopicGroupUser.objects.filter(\\n                user=request.user,\\n                group=TopicGroupUser.GroupChoices.admin,\\n                topic=topic,\\n            ).exists()\\n        ):\\n            return super().destroy(request, *args, **kwargs)\\n        else:\\n            return Response(\\n                status=status.HTTP_401_UNAUTHORIZED,\\n                data=\"This user is not allowed to delete this post\",\\n            )\\n',\n",
              " 'lion_app/blog/__init__.py': '',\n",
              " 'lion_app/blog/admin.py': 'from django.contrib import admin\\n\\n# Register your models here.\\n',\n",
              " 'lion_app/blog/apps.py': 'from django.apps import AppConfig\\n\\n\\nclass BlogConfig(AppConfig):\\n    default_auto_field = \"django.db.models.BigAutoField\"\\n    name = \"blog\"\\n',\n",
              " 'lion_app/blog/models.py': 'from django.db import models\\n\\n# Create your models here.\\n',\n",
              " 'lion_app/blog/serializers.py': 'import os\\n\\nfrom rest_framework import serializers\\nfrom pymongo import MongoClient\\n\\n\\nMONGO_HOST = os.getenv(\"MONGO_HOST\", \"mongo\")\\nclient = MongoClient(host=MONGO_HOST)\\ndb = client.likelion\\n\\n\\nclass BlogSerializer(serializers.Serializer):\\n    title = serializers.CharField(max_length=100)\\n    content = serializers.CharField()\\n    author = serializers.CharField(max_length=100)\\n\\n    def create(self, validated_data):\\n        return db.blogs.insert_one(validated_data)\\n\\n    def save(self, **kwargs):\\n        # Find item\\n        # if exists()\\n        # update\\n        # else\\n        # create\\n\\n        return\\n',\n",
              " 'lion_app/blog/tests.py': 'from django.test import TestCase\\n\\n# Create your tests here.\\n',\n",
              " 'lion_app/blog/urls.py': 'from rest_framework.routers import DefaultRouter\\n\\nfrom . import views\\n\\n\\nrouter = DefaultRouter()\\nrouter.register(\"\", views.BlogViewSet, basename=\"blog\")\\n',\n",
              " 'lion_app/blog/views.py': 'from rest_framework.viewsets import ViewSet\\nfrom rest_framework.response import Response\\nfrom rest_framework import status\\n\\nfrom .serializers import BlogSerializer\\n\\n\\nclass BlogViewSet(ViewSet):\\n    serializer_class = BlogSerializer\\n\\n    def list(self, request):\\n        return Response()\\n\\n    def create(self, request):\\n        \"\"\"\\n        request.data = {\\n            \"title\": \"My second blog\",\\n            \"content\": \"This is my second blog\",\\n            \"author\": \"lion\",\\n        }\\n        \"\"\"\\n        serializer = BlogSerializer(data=request.data)\\n        if serializer.is_valid():\\n            serializer.create(serializer.validated_data)\\n            return Response(status=status.HTTP_201_CREATED, data=serializer.data)\\n        else:\\n            return Response(status=status.HTTP_400_BAD_REQUEST, data=serializer.errors)\\n\\n    def update(self, request):\\n        ...\\n\\n    def retrieve(self, request):\\n        ...\\n\\n    def destroy(self, request):\\n        ...\\n',\n",
              " 'lion_app/common/__init__.py': '',\n",
              " 'lion_app/common/aws.py': 'import json\\n\\nimport boto3\\nfrom botocore.exceptions import ClientError\\n\\n\\ndef get_secret(secret_name: str) -> dict:\\n    region_name = \"ap-northeast-2\"\\n\\n    # Create a Secrets Manager client\\n    session = boto3.session.Session()\\n    client = session.client(service_name=\"secretsmanager\", region_name=region_name)\\n\\n    try:\\n        get_secret_value_response = client.get_secret_value(SecretId=secret_name)\\n    except ClientError as e:\\n        # For a list of exceptions thrown, see\\n        # https://docs.aws.amazon.com/secretsmanager/latest/apireference/API_GetSecretValue.html\\n        raise e\\n\\n    # Decrypts secret using the associated KMS key.\\n    secret = get_secret_value_response[\"SecretString\"]\\n\\n    return json.loads(secret)\\n',\n",
              " 'lion_app/common/middleware.py': 'from django.http import JsonResponse\\nfrom django.conf import settings\\n\\n\\nclass HealthcheckMiddleware:\\n    def __init__(self, get_response):\\n        self.get_response = get_response\\n\\n    def __call__(self, request):\\n        if settings.VERSION == \"0.3.0\":\\n            return JsonResponse({\"status\": \"unhealthy\"}, status=500)\\n        if request.path == \"/health/\":\\n            return JsonResponse({\"status\": \"ok\"})\\n\\n        return self.get_response(request)\\n',\n",
              " 'lion_app/common/views.py': 'from django.http import JsonResponse, HttpResponse\\nfrom django.conf import settings\\nfrom rest_framework.views import APIView\\nfrom rest_framework.request import Request\\nfrom rest_framework.response import Response\\n\\n\\ndef healthcheck(request):\\n    return JsonResponse({\"status\": \"ok\"})\\n\\n\\ndef get_version(request):\\n    return JsonResponse({\"version\": settings.VERSION})\\n\\n\\nclass Me(APIView):\\n    def get(self, request: Request):\\n        return Response({\"pk\": request.user.pk})\\n',\n",
              " 'lion_app/lion_app/__init__.py': '',\n",
              " 'lion_app/lion_app/asgi.py': '\"\"\"\\nASGI config for lion_app project.\\n\\nIt exposes the ASGI callable as a module-level variable named ``application``.\\n\\nFor more information on this file, see\\nhttps://docs.djangoproject.com/en/4.2/howto/deployment/asgi/\\n\"\"\"\\n\\nimport os\\n\\nfrom django.core.asgi import get_asgi_application\\n\\nos.environ.setdefault(\"DJANGO_SETTINGS_MODULE\", \"lion_app.settings\")\\n\\napplication = get_asgi_application()\\n',\n",
              " 'lion_app/lion_app/gunicorn_config.py': 'import multiprocessing\\n\\n\\nbind = \"0.0.0.0:8000\"\\n# workers = multiprocessing.cpu_count() * 2 + 1\\nworkers = 2\\n',\n",
              " 'lion_app/lion_app/urls.py': 'from django.contrib import admin\\nfrom django.urls import path, include\\nfrom django.conf import settings\\nfrom django.conf.urls.static import static\\nfrom drf_spectacular.views import SpectacularAPIView, SpectacularSwaggerView\\nfrom rest_framework_simplejwt.views import (\\n    TokenObtainPairView,\\n    TokenRefreshView,\\n)\\n\\nfrom blog.urls import router as blog_router\\nfrom Forum.urls import router as forum_router\\nfrom common.views import get_version, Me\\n\\n\\nurlpatterns = [\\n    path(\"version/\", get_version, name=\"version\"),\\n    path(\"admin/\", admin.site.urls),\\n    path(\"users/me/\", Me.as_view(), name=\"me\"),\\n    path(\"blog/\", include(blog_router.urls)),\\n    path(\"forum/\", include(forum_router.urls)),\\n    path(\"api-auth/\", include(\"rest_framework.urls\")),\\n    # drf-spectacular\\n    path(\"api/schema/\", SpectacularAPIView.as_view(), name=\"api-schema\"),\\n    path(\\n        \"api/docs/\",\\n        SpectacularSwaggerView.as_view(url_name=\"api-schema\"),\\n        name=\"api-swagger-ui\",\\n    ),\\n    path(\"\", include(\"django_prometheus.urls\")),\\n    path(\"api/token/\", TokenObtainPairView.as_view(), name=\"token_obtain_pair\"),\\n    path(\"api/token/refresh/\", TokenRefreshView.as_view(), name=\"token_refresh\"),\\n] + static(settings.STATIC_URL, document_root=settings.STATIC_ROOT)\\n',\n",
              " 'lion_app/lion_app/wsgi.py': '\"\"\"\\nWSGI config for lion_app project.\\n\\nIt exposes the WSGI callable as a module-level variable named ``application``.\\n\\nFor more information on this file, see\\nhttps://docs.djangoproject.com/en/4.2/howto/deployment/wsgi/\\n\"\"\"\\n\\nimport os\\n\\nfrom django.core.wsgi import get_wsgi_application\\n\\nos.environ.setdefault(\"DJANGO_SETTINGS_MODULE\", \"lion_app.settings.local\")\\n\\napplication = get_wsgi_application()\\n',\n",
              " 'lion_app/Forum/migrations/0001_initial.py': '# Generated by Django 4.2.3 on 2023-08-04 02:14\\n\\nfrom django.conf import settings\\nfrom django.db import migrations, models\\nimport django.db.models.deletion\\n\\n\\nclass Migration(migrations.Migration):\\n    initial = True\\n\\n    dependencies = [\\n        migrations.swappable_dependency(settings.AUTH_USER_MODEL),\\n    ]\\n\\n    operations = [\\n        migrations.CreateModel(\\n            name=\"Topic\",\\n            fields=[\\n                (\\n                    \"id\",\\n                    models.BigAutoField(\\n                        auto_created=True,\\n                        primary_key=True,\\n                        serialize=False,\\n                        verbose_name=\"ID\",\\n                    ),\\n                ),\\n                (\"name\", models.TextField(max_length=128, unique=True)),\\n                (\"is_private\", models.BooleanField(default=False)),\\n                (\"created_at\", models.DateTimeField(auto_now_add=True)),\\n                (\"updated_at\", models.DateTimeField(auto_now=True)),\\n                (\\n                    \"owner\",\\n                    models.ForeignKey(\\n                        on_delete=django.db.models.deletion.PROTECT,\\n                        to=settings.AUTH_USER_MODEL,\\n                    ),\\n                ),\\n            ],\\n        ),\\n        migrations.CreateModel(\\n            name=\"Post\",\\n            fields=[\\n                (\\n                    \"id\",\\n                    models.BigAutoField(\\n                        auto_created=True,\\n                        primary_key=True,\\n                        serialize=False,\\n                        verbose_name=\"ID\",\\n                    ),\\n                ),\\n                (\"title\", models.TextField(max_length=200)),\\n                (\"content\", models.TextField()),\\n                (\"created_at\", models.DateTimeField(auto_now_add=True)),\\n                (\"updated_at\", models.DateTimeField(auto_now=True)),\\n                (\\n                    \"owner\",\\n                    models.ForeignKey(\\n                        on_delete=django.db.models.deletion.CASCADE,\\n                        to=settings.AUTH_USER_MODEL,\\n                    ),\\n                ),\\n                (\\n                    \"topic\",\\n                    models.ForeignKey(\\n                        on_delete=django.db.models.deletion.CASCADE, to=\"Forum.topic\"\\n                    ),\\n                ),\\n            ],\\n        ),\\n    ]\\n',\n",
              " 'lion_app/Forum/migrations/0002_alter_post_topic.py': '# Generated by Django 4.2.3 on 2023-08-11 06:18\\n\\nfrom django.db import migrations, models\\nimport django.db.models.deletion\\n\\n\\nclass Migration(migrations.Migration):\\n    dependencies = [\\n        (\"Forum\", \"0001_initial\"),\\n    ]\\n\\n    operations = [\\n        migrations.AlterField(\\n            model_name=\"post\",\\n            name=\"topic\",\\n            field=models.ForeignKey(\\n                on_delete=django.db.models.deletion.CASCADE,\\n                related_name=\"posts\",\\n                to=\"Forum.topic\",\\n            ),\\n        ),\\n    ]\\n',\n",
              " 'lion_app/Forum/migrations/0003_topicgroupuser.py': '# Generated by Django 4.2.3 on 2023-08-16 06:25\\n\\nfrom django.conf import settings\\nfrom django.db import migrations, models\\nimport django.db.models.deletion\\n\\n\\nclass Migration(migrations.Migration):\\n    dependencies = [\\n        migrations.swappable_dependency(settings.AUTH_USER_MODEL),\\n        (\"Forum\", \"0002_alter_post_topic\"),\\n    ]\\n\\n    operations = [\\n        migrations.CreateModel(\\n            name=\"TopicGroupUser\",\\n            fields=[\\n                (\\n                    \"id\",\\n                    models.BigAutoField(\\n                        auto_created=True,\\n                        primary_key=True,\\n                        serialize=False,\\n                        verbose_name=\"ID\",\\n                    ),\\n                ),\\n                (\\n                    \"group\",\\n                    models.IntegerField(\\n                        choices=[(0, \"Common\"), (1, \"Admin\")], default=0\\n                    ),\\n                ),\\n                (\\n                    \"topic\",\\n                    models.ForeignKey(\\n                        on_delete=django.db.models.deletion.CASCADE, to=\"Forum.topic\"\\n                    ),\\n                ),\\n                (\\n                    \"user\",\\n                    models.ForeignKey(\\n                        on_delete=django.db.models.deletion.CASCADE,\\n                        to=settings.AUTH_USER_MODEL,\\n                    ),\\n                ),\\n            ],\\n        ),\\n    ]\\n',\n",
              " 'lion_app/Forum/migrations/0004_post_image_url_alter_topicgroupuser_topic.py': '# Generated by Django 4.2.3 on 2023-08-30 01:29\\n\\nfrom django.db import migrations, models\\nimport django.db.models.deletion\\n\\n\\nclass Migration(migrations.Migration):\\n    dependencies = [\\n        (\"Forum\", \"0003_topicgroupuser\"),\\n    ]\\n\\n    operations = [\\n        migrations.AddField(\\n            model_name=\"post\",\\n            name=\"image_url\",\\n            field=models.TextField(default=\"\"),\\n        ),\\n        migrations.AlterField(\\n            model_name=\"topicgroupuser\",\\n            name=\"topic\",\\n            field=models.ForeignKey(\\n                on_delete=django.db.models.deletion.CASCADE,\\n                related_name=\"members\",\\n                to=\"Forum.topic\",\\n            ),\\n        ),\\n    ]\\n',\n",
              " 'lion_app/Forum/migrations/0005_alter_post_image_url.py': '# Generated by Django 4.2.3 on 2023-08-30 01:31\\n\\nfrom django.db import migrations, models\\n\\n\\nclass Migration(migrations.Migration):\\n    dependencies = [\\n        (\"Forum\", \"0004_post_image_url_alter_topicgroupuser_topic\"),\\n    ]\\n\\n    operations = [\\n        migrations.AlterField(\\n            model_name=\"post\",\\n            name=\"image_url\",\\n            field=models.URLField(blank=True, null=True),\\n        ),\\n    ]\\n',\n",
              " 'lion_app/Forum/migrations/__init__.py': '',\n",
              " 'lion_app/blog/migrations/__init__.py': '',\n",
              " 'lion_app/lion_app/settings/__init__.py': '',\n",
              " 'lion_app/lion_app/settings/base.py': '\"\"\"\\nDjango settings for lion_app project.\\n\\nGenerated by \\'django-admin startproject\\' using Django 4.2.3.\\n\\nFor more information on this file, see\\nhttps://docs.djangoproject.com/en/4.2/topics/settings/\\n\\nFor the full list of settings and their values, see\\nhttps://docs.djangoproject.com/en/4.2/ref/settings/\\n\"\"\"\\nimport os\\nfrom pathlib import Path\\n\\n# Build paths inside the project like this: BASE_DIR / \\'subdir\\'.\\nBASE_DIR = Path(__file__).resolve().parent.parent.parent\\n\\nVERSION = \"0.3.1\"\\n\\n# Quick-start development settings - unsuitable for production\\n# See https://docs.djangoproject.com/en/4.2/howto/deployment/checklist/\\n\\n# SECURITY WARNING: keep the secret key used in production secret!\\nSECRET_KEY = \"django-insecure-9)1ht#_fpvwt&(+f0i4^sf#l=z^jc=+&b!n@o=iv38pu1vn(#&\"\\n\\n# SECURITY WARNING: don\\'t run with debug turned on in production!\\nDEBUG = True\\n\\nLOCAL_IP = os.getenv(\"LOCAL_IP\", \"\")\\n\\nALLOWED_HOSTS = [\\n    \"localhost\",\\n    \"lion-lb-18904307-df5b6f497fc4.kr.lb.naverncp.com\",\\n    \"*\",\\n    # LOCAL_IP,\\n]\\n\\nCSRF_TRUSTED_ORIGINS = [\\n    \"http://localhost:8888\",\\n    \"http://lion-lb-18904307-df5b6f497fc4.kr.lb.naverncp.com\",\\n    # f\"http://{LOCAL_IP}:8888\",\\n]\\n\\n\\n# Application definition\\n\\nINSTALLED_APPS = [\\n    \"django.contrib.admin\",\\n    \"django.contrib.auth\",\\n    \"django.contrib.contenttypes\",\\n    \"django.contrib.sessions\",\\n    \"django.contrib.messages\",\\n    \"django.contrib.staticfiles\",\\n]\\n\\n## Third party Apps\\nINSTALLED_APPS += [\\n    \"rest_framework\",\\n    \"drf_spectacular\",\\n    \"django_prometheus\",\\n]\\n\\n## Created Apps\\nINSTALLED_APPS += [\\n    \"Forum\",\\n]\\n\\nMIDDLEWARE = [\\n    \"django_prometheus.middleware.PrometheusBeforeMiddleware\",\\n    \"common.middleware.HealthcheckMiddleware\",\\n    \"django.middleware.security.SecurityMiddleware\",\\n    \"django.contrib.sessions.middleware.SessionMiddleware\",\\n    \"django.middleware.common.CommonMiddleware\",\\n    \"django.middleware.csrf.CsrfViewMiddleware\",\\n    \"django.contrib.auth.middleware.AuthenticationMiddleware\",\\n    \"django.contrib.messages.middleware.MessageMiddleware\",\\n    \"django.middleware.clickjacking.XFrameOptionsMiddleware\",\\n    \"django_prometheus.middleware.PrometheusAfterMiddleware\",\\n]\\n\\nROOT_URLCONF = \"lion_app.urls\"\\n\\nTEMPLATES = [\\n    {\\n        \"BACKEND\": \"django.template.backends.django.DjangoTemplates\",\\n        \"DIRS\": [],\\n        \"APP_DIRS\": True,\\n        \"OPTIONS\": {\\n            \"context_processors\": [\\n                \"django.template.context_processors.debug\",\\n                \"django.template.context_processors.request\",\\n                \"django.contrib.auth.context_processors.auth\",\\n                \"django.contrib.messages.context_processors.messages\",\\n            ],\\n        },\\n    },\\n]\\n\\nWSGI_APPLICATION = \"lion_app.wsgi.application\"\\n\\n\\n# Database\\n# https://docs.djangoproject.com/en/4.2/ref/settings/#databases\\n\\n# {\"username\":\"postgres\",\"password\":\"postgres\",\"engine\":\"postgres\",\"host\":\"127.0.0.1\",\"port\":\"5432\",\"dbname\":\"postgres\"}\\n\\nDATABASES = {\\n    \"default\": {\\n        \"ENGINE\": \"django_prometheus.db.backends.postgresql\",\\n        \"NAME\": os.getenv(\"POSTGRES_DB\", \"postgres\"),\\n        \"USER\": os.getenv(\"POSTGRES_USER\", \"postgres\"),\\n        \"PASSWORD\": os.getenv(\"POSTGRES_PASSWORD\", \"postgres\"),\\n        \"HOST\": os.getenv(\"DB_HOST\", \"db\"),\\n        \"OPTIONS\": {\\n            \"options\": \"-c search_path=likelion,public\",\\n        },\\n    }\\n}\\n\\n\\n# Password validation\\n# https://docs.djangoproject.com/en/4.2/ref/settings/#auth-password-validators\\n\\nAUTH_PASSWORD_VALIDATORS = [\\n    {\\n        \"NAME\": \"django.contrib.auth.password_validation.UserAttributeSimilarityValidator\",\\n    },\\n    {\\n        \"NAME\": \"django.contrib.auth.password_validation.MinimumLengthValidator\",\\n    },\\n    {\\n        \"NAME\": \"django.contrib.auth.password_validation.CommonPasswordValidator\",\\n    },\\n    {\\n        \"NAME\": \"django.contrib.auth.password_validation.NumericPasswordValidator\",\\n    },\\n]\\n\\n\\n# Internationalization\\n# https://docs.djangoproject.com/en/4.2/topics/i18n/\\n\\nLANGUAGE_CODE = \"en-us\"\\n\\nTIME_ZONE = \"UTC\"\\n\\nUSE_I18N = True\\n\\nUSE_TZ = True\\n\\n\\n# Static files (CSS, JavaScript, Images)\\n# https://docs.djangoproject.com/en/4.2/howto/static-files/\\n\\nSTATIC_URL = \"static/\"\\nSTATIC_ROOT = \"/var/www/html/static\"\\n\\n# Default primary key field type\\n# https://docs.djangoproject.com/en/4.2/ref/settings/#default-auto-field\\n\\nDEFAULT_AUTO_FIELD = \"django.db.models.BigAutoField\"\\n\\nREST_FRAMEWORK = {\\n    # Use Django\\'s standard `django.contrib.auth` permissions,\\n    # or allow read-only access for unauthenticated users.\\n    \"DEFAULT_AUTHENTICATION_CLASSES\": (\\n        \"rest_framework_simplejwt.authentication.JWTAuthentication\",\\n    ),\\n    \"DEFAULT_PERMISSION_CLASSES\": [\"rest_framework.permissions.IsAuthenticated\"],\\n    \"DEFAULT_SCHEMA_CLASS\": \"drf_spectacular.openapi.AutoSchema\",\\n}\\n\\nSPECTACULAR_SETTINGS = {\\n    \"TITLE\": \"LikeLion Forum API\",\\n    \"DESCRIPTION\": \"LikeLion 6th\",\\n    \"VERSION\": \"0.0.1\",\\n    \"SERVE_INCLUDE_SCHEMA\": False,\\n}\\n\\n## NCP\\n\\nNCP_ACCESS_KEY = os.getenv(\"NCP_ACCESS_KEY\", \"\")\\nNCP_SECRET_KEY = os.getenv(\"NCP_SECRET_KEY\", \"\")\\n',\n",
              " 'lion_app/lion_app/settings/local.py': 'from .base import *\\n\\nALLOWED_HOSTS = [\\n    \"localhost\",\\n    \"*\",\\n]\\n\\nCSRF_TRUSTED_ORIGINS = [\\n    \"http://localhost:8888\",\\n]\\n',\n",
              " 'lion_app/lion_app/settings/prod.py': 'import os\\n\\nfrom .base import *\\n\\n\\nSECRET_KEY = os.getenv(\"DJANGO_SECRET_KEY\")\\n\\nDEBUG = False\\n\\nALLOWED_HOSTS = [\\n    \"lion-lb-18904307-df5b6f497fc4.kr.lb.naverncp.com\",\\n]\\n\\nCSRF_TRUSTED_ORIGINS = [\\n    \"http://lion-lb-18904307-df5b6f497fc4.kr.lb.naverncp.com\",\\n]\\n',\n",
              " 'lion_app/lion_app/settings/staging.py': 'import os\\n\\nfrom .base import *\\n\\n\\nSECRET_KEY = os.getenv(\"DJANGO_SECRET_KEY\")\\n\\nDEBUG = True\\n\\nALLOWED_HOSTS = [\\n    \"*\",\\n]\\n\\n# CSRF_TRUSTED_ORIGINS = [\\n#     \"http://lion-lb-staging-18975820-e3aa639c372a.kr.lb.naverncp.com\",\\n# ]\\n',\n",
              " 'lion_app/lion_app/settings/test.py': 'from .base import *\\n\\n\\nDATABASES = {\"default\": {\"ENGINE\": \"django.db.backends.sqlite3\", \"NAME\": \"db\"}}\\n'}"
            ]
          },
          "metadata": {},
          "execution_count": 19
        }
      ]
    },
    {
      "cell_type": "code",
      "source": [
        "# Assuming you want to retrieve all documents:\n",
        "results = vectorstore.get(include=['metadatas'])\n",
        "\n",
        "# Get the number of documents by counting the metadata entries\n",
        "num_documents = len(results['metadatas'])\n",
        "\n",
        "print(f\"Number of documents in vectorstore: {num_documents}\")"
      ],
      "metadata": {
        "colab": {
          "base_uri": "https://localhost:8080/"
        },
        "id": "XMi9xiMfxK7l",
        "outputId": "5be8c989-f59a-4f98-b5e5-8a2cd77550ea"
      },
      "execution_count": 24,
      "outputs": [
        {
          "output_type": "stream",
          "name": "stdout",
          "text": [
            "Number of documents in vectorstore: 1356\n"
          ]
        }
      ]
    },
    {
      "cell_type": "markdown",
      "source": [
        "## [MY CODE] embedding 변경\n",
        "\n",
        "텍스트를 위한 embedding 대신 코드에 더 적합한 embedding으로 변경"
      ],
      "metadata": {
        "id": "tm7HYagpzPSp"
      }
    },
    {
      "cell_type": "code",
      "source": [
        "from langchain_chroma import Chroma\n",
        "from langchain.schema import Document\n",
        "from langchain_huggingface import HuggingFaceEmbeddings\n",
        "\n",
        "# CodeBERT embedding 모델 로드\n",
        "model_name = \"microsoft/codebert-base\"\n",
        "embeddings = HuggingFaceEmbeddings(model_name=model_name)\n",
        "\n",
        "\n",
        "\n",
        "vectorstore = Chroma(\n",
        "    embedding_function=embeddings,\n",
        "    persist_directory=\"./new_chroma_db\",\n",
        "    collection_name=\"code_segments\"\n",
        ")\n",
        "\n",
        "# 데이터 업로드\n",
        "def add_data_to_chroma(segments, metadata):\n",
        "    # LangChain의 Document 형식으로 변환\n",
        "    documents = [\n",
        "        Document(\n",
        "            page_content=segment,\n",
        "            metadata=meta\n",
        "        ) for segment, meta in zip(segments, metadata)\n",
        "    ]\n",
        "\n",
        "    # vectorstore에 documents 추가\n",
        "    vectorstore.add_documents(documents)\n",
        "\n",
        "for file_path, code in code_files.items():\n",
        "    # Split the code into segments (you might want to use a more sophisticated approach)\n",
        "    segments = code.split('\\n')\n",
        "\n",
        "    # Create metadata for each segment\n",
        "    metadata = [{'file_path': file_path, 'line_number': i} for i in range(len(segments))]\n",
        "\n",
        "    # Add the segments and metadata to the vectorstore\n",
        "    add_data_to_chroma(segments, metadata)"
      ],
      "metadata": {
        "colab": {
          "base_uri": "https://localhost:8080/"
        },
        "id": "rxXjXDDWzMiM",
        "outputId": "cf845266-71ba-4dad-8d45-ba646f715564"
      },
      "execution_count": 10,
      "outputs": [
        {
          "output_type": "stream",
          "name": "stderr",
          "text": [
            "WARNING:sentence_transformers.SentenceTransformer:No sentence-transformers model found with name microsoft/codebert-base. Creating a new one with mean pooling.\n"
          ]
        }
      ]
    },
    {
      "cell_type": "code",
      "source": [
        "# 쿼리를 통해 관련 벡터 검색\n",
        "def search_relevant_segments(query: str, top_k: int = 50):\n",
        "    # similarity_search 메서드를 사용하여 관련 문서 검색\n",
        "    results = vectorstore.similarity_search(\n",
        "        query=query,\n",
        "        k=top_k\n",
        "    )\n",
        "    # 검색된 문서의 내용 반환\n",
        "    return [doc.page_content for doc in results]\n",
        "\n",
        "# 결과 출력\n",
        "query = \"잠재적인 버그, 스타일 문제, 성능 문제, 보안 취약점 등 특정 코드 블록이나 함수에서 개선할 수 있는 부분\"\n",
        "relevant_segments = search_relevant_segments(query)\n",
        "relevant_segments"
      ],
      "metadata": {
        "colab": {
          "base_uri": "https://localhost:8080/"
        },
        "id": "kL7il7vT3DKi",
        "outputId": "dc4383b1-2061-4c12-deca-9c68f72396f3"
      },
      "execution_count": 12,
      "outputs": [
        {
          "output_type": "execute_result",
          "data": {
            "text/plain": [
              "['    @extend_schema(summary=\"새 토픽 생성\")',\n",
              " '#     \"http://lion-lb-staging-18975820-e3aa639c372a.kr.lb.naverncp.com\",',\n",
              " '\"\"\"Django\\'s command-line utility for administrative tasks.\"\"\"',\n",
              " 'It exposes the ASGI callable as a module-level variable named ``application``.',\n",
              " 'os.environ.setdefault(\"DJANGO_SETTINGS_MODULE\", \"lion_app.settings\")',\n",
              " '    os.environ.setdefault(\"DJANGO_SETTINGS_MODULE\", \"lion_app.settings.local\")',\n",
              " 'os.environ.setdefault(\"DJANGO_SETTINGS_MODULE\", \"lion_app.settings.local\")',\n",
              " '# Generated by Django 4.2.3 on 2023-08-30 01:29',\n",
              " 'It exposes the WSGI callable as a module-level variable named ``application``.',\n",
              " '# Generated by Django 4.2.3 on 2023-08-30 01:31',\n",
              " '# Generated by Django 4.2.3 on 2023-08-04 02:14',\n",
              " '    \"DEFAULT_PERMISSION_CLASSES\": [\"rest_framework.permissions.IsAuthenticated\"],',\n",
              " '# Generated by Django 4.2.3 on 2023-08-16 06:25',\n",
              " '    path(\"api/token/\", TokenObtainPairView.as_view(), name=\"token_obtain_pair\"),',\n",
              " '    \"lion-lb-18904307-df5b6f497fc4.kr.lb.naverncp.com\",',\n",
              " '    \"lion-lb-18904307-df5b6f497fc4.kr.lb.naverncp.com\",',\n",
              " '    \"DEFAULT_SCHEMA_CLASS\": \"drf_spectacular.openapi.AutoSchema\",',\n",
              " '        \"rest_framework_simplejwt.authentication.JWTAuthentication\",',\n",
              " '# Generated by Django 4.2.3 on 2023-08-11 06:18',\n",
              " 'from drf_spectacular.views import SpectacularAPIView, SpectacularSwaggerView',\n",
              " \"Generated by 'django-admin startproject' using Django 4.2.3.\",\n",
              " \"# Build paths inside the project like this: BASE_DIR / 'subdir'.\",\n",
              " 'router.register(\"post\", views.PostViewSet, basename=\"post\")',\n",
              " 'router.register(\"topic\", views.TopicViewSet, basename=\"topic\")',\n",
              " '    \"DEFAULT_AUTHENTICATION_CLASSES\": (',\n",
              " '    \"http://lion-lb-18904307-df5b6f497fc4.kr.lb.naverncp.com\",',\n",
              " '    \"http://lion-lb-18904307-df5b6f497fc4.kr.lb.naverncp.com\",',\n",
              " '    path(\"api/schema/\", SpectacularAPIView.as_view(), name=\"api-schema\"),',\n",
              " 'ROOT_URLCONF = \"lion_app.urls\"',\n",
              " '        \"NAME\": \"django.contrib.auth.password_validation.UserAttributeSimilarityValidator\",',\n",
              " '        SpectacularSwaggerView.as_view(url_name=\"api-schema\"),',\n",
              " 'router.register(\"\", views.BlogViewSet, basename=\"blog\")',\n",
              " '            self.assertTrue(res_data[\"image_url\"].startswith(\"https://\"))',\n",
              " '        \"BACKEND\": \"django.template.backends.django.DjangoTemplates\",',\n",
              " '    # Decrypts secret using the associated KMS key.',\n",
              " 'STATIC_ROOT = \"/var/www/html/static\"',\n",
              " '            \"available on your PYTHONPATH environment variable? Did you \"',\n",
              " 'class TopicGroupUser(ExportModelOperationsMixin(\"topicgroupuser\"), models.Model):',\n",
              " '    # or allow read-only access for unauthenticated users.',\n",
              " '    \"django.middleware.clickjacking.XFrameOptionsMiddleware\",',\n",
              " '    # f\"http://{LOCAL_IP}:8888\",',\n",
              " '        \"NAME\": \"django.contrib.auth.password_validation.MinimumLengthValidator\",',\n",
              " \"    # Use Django's standard `django.contrib.auth` permissions,\",\n",
              " '    \"TITLE\": \"LikeLion Forum API\",',\n",
              " 'Django settings for lion_app project.',\n",
              " 'WSGI_APPLICATION = \"lion_app.wsgi.application\"',\n",
              " '    \"SERVE_INCLUDE_SCHEMA\": False,',\n",
              " '        \"NAME\": \"django.contrib.auth.password_validation.NumericPasswordValidator\",',\n",
              " '            image_filename = f\"{image_id}.{ext}\"',\n",
              " '            \"options\": \"-c search_path=likelion,public\",']"
            ]
          },
          "metadata": {},
          "execution_count": 12
        }
      ]
    },
    {
      "cell_type": "markdown",
      "source": [
        "## [LOG] 코드 블럭이 아닌 라인 형태의 출력"
      ],
      "metadata": {
        "id": "RR8Lqo_67GsE"
      }
    },
    {
      "cell_type": "code",
      "source": [
        "from langchain.prompts import ChatPromptTemplate\n",
        "from langchain_openai import ChatOpenAI\n",
        "\n",
        "def generate_code_review(relevant_segments):\n",
        "    # 프롬프트 템플릿 생성\n",
        "    prompt = ChatPromptTemplate.from_template(\"\"\"\n",
        "    You are a code reviewer. Here are some code segments:\n",
        "    {segments}\n",
        "\n",
        "    Please provide:\n",
        "    1. What was done well.\n",
        "    2. What can be improved.\n",
        "    \"\"\")\n",
        "\n",
        "    # LLM 모델 초기화\n",
        "    llm = ChatOpenAI(model=\"gpt-4\")\n",
        "\n",
        "    # 체인 실행\n",
        "    chain = prompt | llm\n",
        "\n",
        "    # 리뷰 생성\n",
        "    response = chain.invoke({\n",
        "        \"segments\": \"\\n\".join(relevant_segments)\n",
        "    })\n",
        "\n",
        "    return response.content\n",
        "\n",
        "# 리뷰 생성 및 출력\n",
        "review = generate_code_review(relevant_segments)\n",
        "print(review)"
      ],
      "metadata": {
        "colab": {
          "base_uri": "https://localhost:8080/"
        },
        "id": "avU2cyfa6-AN",
        "outputId": "c97d6558-c25a-4331-d499-b279d6a30384"
      },
      "execution_count": 13,
      "outputs": [
        {
          "output_type": "stream",
          "name": "stdout",
          "text": [
            "1. What was done well:\n",
            "\n",
            "    - The code follows the DRY principle. For example, instead of repeatedly setting the default setting for the Django settings module, it is set once using `os.environ.setdefault(\"DJANGO_SETTINGS_MODULE\", \"lion_app.settings\")`.\n",
            "    - The use of descriptive paths (such as \"api/schema/\" and \"api/token/\") is commendable. These make the routes more intuitive to users and developers.\n",
            "    - Good use of comments to provide information regarding what different sections of code do.\n",
            "    - The use of JWT (JSON Web Tokens) for authentication in the \"DEFAULT_AUTHENTICATION_CLASSES\" section is a good practice for securing API endpoints. \n",
            "\n",
            "2. What can be improved:\n",
            "   \n",
            "    - The code seems unstructured and somewhat scattered. The imports, class definitions, constants, and instantiations should each be grouped together for better readability.\n",
            "    - Redundancy in code: There are many repeated lines such as `\"http://lion-lb-18904307-df5b6f497fc4.kr.lb.naverncp.com\"`, these could be stored in a variable and reused.\n",
            "    - There's inconsistency in keeping comments. Some included comments seem unnecessary and could be removed to reduce clutter while some lines of code which could use explanation don't have any comment.\n",
            "    - Some hard-coded settings like STATIC_ROOT should typically come from a settings file, not in the main codebase.\n",
            "    - It is best to import only what you need from a module/package. For example, in `from drf_spectacular.views import SpectacularAPIView, SpectacularSwaggerView`, if only `SpectacularAPIView` is used, `SpectacularSwaggerView` should not be imported.\n"
          ]
        }
      ]
    },
    {
      "cell_type": "markdown",
      "source": [
        "## [LOG] 향상된 코드리뷰\n",
        "\n",
        "segement가 비록 코드블록이 아닌 한 줄의 형태로 되어있긴 하지만, 코드가 들어가니 의미있는 답변이 나옴\n",
        "\n",
        "- 코드의 출처가 나와야 직접 가서 전체 코드를 확인할 수 있을듯"
      ],
      "metadata": {
        "id": "D3eCnGAV7Zac"
      }
    },
    {
      "cell_type": "markdown",
      "source": [
        "## [FEEDBACK] 코드 블록을 segment로\n",
        "\n",
        "어떻게 하면, 한 줄이 아니라 코드 블록 단위로 segment를 만들 수 있을까요?"
      ],
      "metadata": {
        "id": "BTkxuGMA7xyk"
      }
    }
  ]
}
